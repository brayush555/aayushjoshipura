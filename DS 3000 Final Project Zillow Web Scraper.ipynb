{
 "cells": [
  {
   "cell_type": "markdown",
   "id": "0abc3bbb",
   "metadata": {},
   "source": [
    "## Python Web Scraper "
   ]
  },
  {
   "cell_type": "code",
   "execution_count": 216,
   "id": "8dea144c",
   "metadata": {},
   "outputs": [],
   "source": [
    "# importing libraries\n",
    "import requests\n",
    "\n",
    "from requests import get\n",
    "import lxml\n",
    "from lxml.html.soupparser import fromstring\n",
    "import prettify\n",
    "import numbers\n",
    "import html_text\n",
    "\n",
    "import os\n",
    "from bs4 import BeautifulSoup\n",
    "from selenium import webdriver\n",
    "from selenium.webdriver.common.keys import Keys\n",
    "from selenium.webdriver.common.by import By\n",
    "import time\n",
    "import sys\n",
    "import numpy as np\n",
    "import pandas as pd\n",
    "import regex as re\n",
    "\n",
    "from urllib.request import urlopen\n",
    "from lxml import html"
   ]
  },
  {
   "cell_type": "code",
   "execution_count": 210,
   "id": "ce1b668a",
   "metadata": {},
   "outputs": [],
   "source": [
    "# both functions call find_all method on soup object to filter through the div class\n",
    "def select_properties(soup):\n",
    "    res = soup.find_all('div', id='grid-search-results')\n",
    "    properties = res[0].find_all('ul')[0].find_all('li')\n",
    "    return properties\n",
    "\n",
    "def select_res(soup):\n",
    "    res = soup.find_all('div', id='grid-search-results')\n",
    "    return res"
   ]
  },
  {
   "cell_type": "code",
   "execution_count": 211,
   "id": "229a6da6",
   "metadata": {},
   "outputs": [],
   "source": [
    "def get_p(res):\n",
    "# filters through the html script and extracts price values\n",
    "    prices = list()\n",
    "    \n",
    "    for val in res:\n",
    "        pc = val.find_all(class_='list-card-price')\n",
    "        #print(pc)\n",
    "        #print(val)\n",
    "        pc = re.sub('<div class=\"list-card-price\">', '', str(pc))\n",
    "        pc = re.sub('</div>', '', pc)\n",
    "        pc = pc.replace('[','').replace(']','')\n",
    "        pc = pc.replace(',','')\n",
    "        pc = pc.split()\n",
    "        #print(type(pc), \"Hi\")\n",
    "        #print(pc)\n",
    "        if len(pc) != 0:\n",
    "            prices.append(pc)\n",
    "        \n",
    "    flat_pc = [item for sublist in prices for item in sublist] #flatten the nested list of prices\n",
    "        \n",
    "    return flat_pc\n",
    "    \n",
    "\n",
    "def get_clean_price(prices):\n",
    "    #append price value to new list\n",
    "    \n",
    "    int_price = list() #change back to nprice later\n",
    "    \n",
    "    for i in prices:\n",
    "        i = i.replace(\"''\", '')\n",
    "        ni = re.sub('\\$', '', i)\n",
    "        \n",
    "        #print(ni)\n",
    "        #print(ni)\n",
    "        int_price.append(ni)\n",
    "    \n",
    "    #int_price = [int(i) for i in nprices]\n",
    "    return int_price"
   ]
  },
  {
   "cell_type": "code",
   "execution_count": 212,
   "id": "5319b449",
   "metadata": {},
   "outputs": [],
   "source": [
    "def get_rent_p(res):\n",
    "# filters through the html script and extracts price values\n",
    "    prices = list()\n",
    "    \n",
    "    for val in res:\n",
    "        pc = val.find_all(class_='list-card-price')\n",
    "        #print(pc)\n",
    "        #print(val)\n",
    "        pc = re.sub('<div class=\"list-card-price\">', '', str(pc))\n",
    "        pc = re.sub('</div>', '', pc)\n",
    "        pc = pc.replace('[','').replace(']','')\n",
    "        pc = pc.replace(',','')\n",
    "        pc = pc.split()\n",
    "        #print(type(pc), \"Hi\")\n",
    "        #print(pc)\n",
    "        if len(pc) != 0: #sets condition to check for whether list has actual values inside and is not empty\n",
    "            prices.append(pc)\n",
    "        \n",
    "    flat_pc = [item for sublist in prices for item in sublist] #flatten the nested list of prices\n",
    "        \n",
    "    return flat_pc\n",
    "    \n",
    "def get_clean_rent(prices):\n",
    "    #append price value to new list\n",
    "    \n",
    "    int_price = list() #change back to nprice later\n",
    "    \n",
    "    for i in prices:\n",
    "        i = i.replace(\"''\", '')\n",
    "        ni = re.sub('\\$', '', i)\n",
    "        \n",
    "        #print(ni)\n",
    "        #print(ni)\n",
    "        int_price.append(ni)\n",
    "    \n",
    "    #int_price = [int(i) for i in nprices]\n",
    "    return int_price"
   ]
  },
  {
   "cell_type": "code",
   "execution_count": 213,
   "id": "7981c57a",
   "metadata": {},
   "outputs": [],
   "source": [
    "def get_address(properties):\n",
    "\n",
    "    wb = list()\n",
    "\n",
    "    # finds the address header and cleans up all the html script\n",
    "    for prop in properties:\n",
    "        house = prop.find_all(class_='list-card-info')\n",
    "        if len(house) != 0:\n",
    "            address = house[0].find('address')\n",
    "            if address is not None: # handling None type objects\n",
    "                ad = re.sub('<address class=\"list-card-addr\">', ' ', str(address))\n",
    "                clean_ad = re.sub('</address>', ' ', ad)\n",
    "                print(clean_ad)\n",
    "            #sites = a.attrs['href']\n",
    "                wb.append(clean_ad)\n",
    "            else:\n",
    "                continue\n",
    "                \n",
    "    return wb\n",
    "                "
   ]
  },
  {
   "cell_type": "code",
   "execution_count": 214,
   "id": "d6c860b0",
   "metadata": {},
   "outputs": [],
   "source": [
    "# extracts the city and zip code from the address and creates two new lists for the city and zip code separately\n",
    "\n",
    "def city(wb):\n",
    "\n",
    "    city = [sub.split(',')[1] for sub in wb]\n",
    "    fcity = [sub.strip(\" \") for sub in city]\n",
    "    return fcity\n",
    "\n",
    "def zip_code(wb):\n",
    "    zc = [sub.split(',')[2] for sub in wb]\n",
    "    zcode = [sub.replace('MA', '') for sub in zc]\n",
    "    fzc = [sub.strip(\" \") for sub in zcode]\n",
    "    #zip_code = [int(i) for i in fzc]\n",
    "    return fzc\n"
   ]
  },
  {
   "cell_type": "code",
   "execution_count": 215,
   "id": "9a1f122a",
   "metadata": {},
   "outputs": [],
   "source": [
    "def get_url(properties):\n",
    "\n",
    "    info = list()\n",
    "\n",
    "    # finds the url header and cleans up all the html script\n",
    "    for prop in properties:\n",
    "        house = prop.find_all(class_='list-card-info')\n",
    "        #print(house)\n",
    "        if len(house) != 0: \n",
    "            ac = house[0].find('a')\n",
    "            #print(ac)\n",
    "            if ac is not None:\n",
    "                #print(a)\n",
    "                sites = ac.attrs['href']\n",
    "                info.append(sites)\n",
    "            else:\n",
    "                continue\n",
    "            \n",
    "    return info"
   ]
  },
  {
   "cell_type": "code",
   "execution_count": 179,
   "id": "d630e01f",
   "metadata": {},
   "outputs": [],
   "source": [
    "def find_beds(soup):\n",
    "    beds = soup.find_all(\"ul\", class_=\"list-card-details\") # specific class where bed values are located \n",
    "    return beds\n",
    "\n",
    "def get_bed_bath_sqft(beds):\n",
    "\n",
    "    lst = list()\n",
    "\n",
    "    # takes the bed, bath, and square feet values and creates a nested list with each of the three values split  \n",
    "    for item in beds:\n",
    "        prop = item.find_all('li')\n",
    "        p1 = re.sub('<li class=\"\">', '', str(prop))\n",
    "        p1 = re.sub('<abbr class=\"list-card-label\">', '', p1)\n",
    "        p1 = re.sub('<!-- -->', '', p1)\n",
    "        p1 = re.sub('</abbr></li>', '', p1)\n",
    "        p1 = re.sub(', <li class=\"list-card-statusText\">-', '', p1)\n",
    "        p1 = re.sub('</li>', '', p1)\n",
    "        p1 = re.sub('Condo for sale', '', p1)\n",
    "        p1 = re.sub('Multi-family home for sale', '', p1)\n",
    "        p1 = re.sub('House for sale', '', p1)\n",
    "        p1 = p1.replace('[','').replace(']','')\n",
    "        p1 = re.sub('bds', '', p1)\n",
    "        p1 = re.sub('bd', '', p1)\n",
    "        p1 = re.sub('ba', '', p1)\n",
    "        p1 = re.sub('sqft', '', p1)\n",
    "        p1 = re.sub('Sold', '', p1)\n",
    "        p1 = p1.replace(' ', '')\n",
    "        p1 = p1.split(',', 2)\n",
    "        lst.append(p1)\n",
    "    \n",
    "    return lst"
   ]
  },
  {
   "cell_type": "code",
   "execution_count": 180,
   "id": "02ba5efb",
   "metadata": {},
   "outputs": [],
   "source": [
    "# list comprehension to create separate list for each bed, bath, and sqft value in the nested list above\n",
    "def get_bed(lst):\n",
    "    bed = [i[0] for i in lst] \n",
    "    return bed\n",
    "\n",
    "def get_bath(lst):\n",
    "    bath = [i[1] for i in lst]\n",
    "    return bath\n",
    "\n",
    "def get_sqft(lst):\n",
    "    sqft = [i[2] for i in lst]\n",
    "    return sqft"
   ]
  },
  {
   "cell_type": "code",
   "execution_count": 181,
   "id": "c3f7ebb8",
   "metadata": {},
   "outputs": [],
   "source": [
    "def create_df(int_price, wb, fcity, fzc, bed, bath, sqft, info):\n",
    "    # create pandas series for each list of attributes and combines them into a dataframe\n",
    "    int_price = pd.Series(int_price) \n",
    "    wb = pd.Series(wb)\n",
    "    fcity = pd.Series(fcity)\n",
    "    fzc = pd.Series(fzc)\n",
    "    bed = pd.Series(bed)\n",
    "    bath = pd.Series(bath)\n",
    "    sqft = pd.Series(sqft)\n",
    "    info = pd.Series(info)\n",
    "\n",
    "    df=pd.concat([int_price, wb, fcity, fzc, bed, bath, sqft, info],axis=1)\n",
    "    df.columns = ['Price', 'Address', 'City', 'Zip Code', 'Beds', 'Bath', 'Square Feet', 'Links']\n",
    "    df.head(10)\n",
    "    \n",
    "    df = df.replace('--', np.nan) # replace any null values \n",
    "    \n",
    "    return df\n",
    "\n",
    "def filter_df(df):\n",
    "# replaces any letter values with string, converts it to an integer\n",
    "#     repl_dict = {'[kK]': '*1e3', '[mM]': '*1e6', '[bB]': '*1e9', }\n",
    "#     df['Price'].replace(repl_dict, regex=True).map(pd.eval)\n",
    "    df.Price = (df.Price.replace(r'[KMB]+$', '', regex=True).astype(float) * \n",
    "              df.Price.str.extract(r'[\\d\\.]+([KMB]+)', expand=False).fillna(1).replace(['K','M', 'B'], \n",
    "                                                                                     [10**3, 10**6, 10**9]))\n",
    "    df['Price'] = df['Price'].astype(int)\n",
    "    return df"
   ]
  },
  {
   "cell_type": "code",
   "execution_count": 144,
   "id": "16affa55",
   "metadata": {},
   "outputs": [],
   "source": [
    "# test urls \n",
    "url_1 = \"https://www.zillow.com/homes/Boston,-MA_rb/\"\n",
    "url_2 = \"https://www.zillow.com/boston-ma/2_p/\"\n",
    "url_3 = \"https://www.zillow.com/boston-ma/3_p/\" \n",
    "url_4 = \"https://www.zillow.com/boston-ma/4_p/\""
   ]
  },
  {
   "cell_type": "code",
   "execution_count": 196,
   "id": "320661cf",
   "metadata": {},
   "outputs": [],
   "source": [
    "curr = 1"
   ]
  },
  {
   "cell_type": "code",
   "execution_count": 217,
   "id": "f7c48354",
   "metadata": {},
   "outputs": [
    {
     "name": "stdout",
     "output_type": "stream",
     "text": [
      "2\n"
     ]
    }
   ],
   "source": [
    "# Url for buying houses\n",
    "url = f\"https://www.zillow.com/boston-ma/{curr}_p/\"\n",
    "print(curr)"
   ]
  },
  {
   "cell_type": "code",
   "execution_count": 183,
   "id": "903466e0",
   "metadata": {},
   "outputs": [
    {
     "name": "stdout",
     "output_type": "stream",
     "text": [
      "1\n"
     ]
    }
   ],
   "source": [
    "# Url for house rentals\n",
    "burl = f\"https://www.zillow.com/boston-ma/rentals/{curr}_p/\"\n",
    "print(curr)"
   ]
  },
  {
   "cell_type": "code",
   "execution_count": 172,
   "id": "1bf63bb9",
   "metadata": {},
   "outputs": [
    {
     "name": "stdout",
     "output_type": "stream",
     "text": [
      "24\n"
     ]
    }
   ],
   "source": [
    "#Url for houses sold\n",
    "curl = f\"https://www.zillow.com/boston-ma/sold/{curr}_p/\"\n",
    "print(curr)"
   ]
  },
  {
   "cell_type": "code",
   "execution_count": 218,
   "id": "4827a9c2",
   "metadata": {},
   "outputs": [
    {
     "name": "stdout",
     "output_type": "stream",
     "text": [
      "chromedriver path: /opt/homebrew/bin/chromedriver\n"
     ]
    },
    {
     "name": "stderr",
     "output_type": "stream",
     "text": [
      "/var/folders/t4/x2nfgfvj7ts940mwzqzt0htr0000gn/T/ipykernel_82130/2175428446.py:6: DeprecationWarning: executable_path has been deprecated, please pass in a Service object\n",
      "  driver = webdriver.Chrome(chromedriver)\n"
     ]
    }
   ],
   "source": [
    "chromedriver = \"/opt/homebrew/bin/chromedriver\" # path to the chromedriver executable\n",
    "#chromedriver = \"/Applications/Google Chrome.app/Contents/MacOS/Google Chrome\"\n",
    "chromedriver = os.path.expanduser(chromedriver)\n",
    "print('chromedriver path: {}'.format(chromedriver))\n",
    "sys.path.append(chromedriver)\n",
    "driver = webdriver.Chrome(chromedriver)\n",
    "driver.get(url)\n",
    "soup = BeautifulSoup(driver.page_source, 'html.parser')\n",
    "\n",
    "# DONT FORGET TO UNCOMMENT THIS SHIT AFTER U RUN 12!!!\n",
    "\n",
    "curr += 1"
   ]
  },
  {
   "cell_type": "markdown",
   "id": "8acc4986",
   "metadata": {},
   "source": [
    "We were unable to run any type of loop or function call that would take the current url and add 1 to the page section due to Zillow's antiscraping techniques. So, we built the lines of code below that essentially start off by setting the current page value to 1 and then running the url once through the chromedriver before adding one to the curr, or current value to move to the next page."
   ]
  },
  {
   "cell_type": "code",
   "execution_count": 114,
   "id": "1fd42c24",
   "metadata": {},
   "outputs": [
    {
     "name": "stdout",
     "output_type": "stream",
     "text": [
      "15\n"
     ]
    }
   ],
   "source": [
    "print(curr)"
   ]
  },
  {
   "cell_type": "code",
   "execution_count": null,
   "id": "4de74ccc",
   "metadata": {},
   "outputs": [],
   "source": [
    "def get_rent_p(res):\n",
    "# filters through the html script and extracts price values\n",
    "    prices = list()\n",
    "    \n",
    "    for val in res:\n",
    "        pc = val.find_all(class_='list-card-price')\n",
    "        #print(pc)\n",
    "        #print(val)\n",
    "        pc = re.sub('<div class=\"list-card-price\">', '', str(pc))\n",
    "        pc = re.sub('</div>', '', pc)\n",
    "        pc = pc.replace('[','').replace(']','')\n",
    "        pc = pc.replace(',','')\n",
    "        pc = pc.split()\n",
    "        #print(type(pc), \"Hi\")\n",
    "        #print(pc)\n",
    "        if len(pc) != 0:\n",
    "            prices.append(pc)\n",
    "        \n",
    "    flat_pc = [item for sublist in prices for item in sublist] #flatten the nested list of prices\n",
    "        \n",
    "    return flat_pc\n",
    "    \n",
    "def get_clean_rent(prices):\n",
    "    #append price value to new list\n",
    "    \n",
    "    int_price = list() #change back to nprice later\n",
    "    \n",
    "    for i in prices:\n",
    "        i = i.replace(\"''\", '')\n",
    "        ni = re.sub('\\$', '', i)\n",
    "        \n",
    "        #print(ni)\n",
    "        #print(ni)\n",
    "        int_price.append(ni)\n",
    "    \n",
    "    #int_price = [int(i) for i in nprices]\n",
    "    return int_price"
   ]
  },
  {
   "cell_type": "code",
   "execution_count": 188,
   "id": "36aeb0cc",
   "metadata": {},
   "outputs": [
    {
     "name": "stdout",
     "output_type": "stream",
     "text": [
      "[<li><article class=\"list-card list-card-additional-attribution list-card_not-saved list-card_building\" id=\"zpid_42.36566--71.06165\" role=\"presentation\"><div class=\"list-card-info\"><a class=\"list-card-link list-card-link-top-margin\" href=\"/b/hub50house-boston-ma-9qFF3Z/\" tabindex=\"0\"><address class=\"list-card-addr\">Hub50House | 50 Causeway St, Boston, MA</address></a><div class=\"list-card-footer\"></div><div class=\"list-card-heading\"><div class=\"list-card-price\">$3,010+<abbr class=\"list-card-label\"> <!-- -->Studio</abbr></div><ul class=\"list-card-details\"><li class=\"\">$3,553+<abbr class=\"list-card-label\"> <!-- -->1 bd</abbr></li><li class=\"\">$5,675+<abbr class=\"list-card-label\"> <!-- -->2 bds</abbr></li><li class=\"\">$9,483+<abbr class=\"list-card-label\"> <!-- -->3 bds</abbr></li></ul></div></div><div class=\"list-card-top\"><div class=\"list-card-variable-text list-card-img-overlay\">Updated yesterday</div><a aria-hidden=\"false\" class=\"list-card-link list-card-link-top-margin list-card-img\" href=\"/b/hub50house-boston-ma-9qFF3Z/\" tabindex=\"-1\"><img alt=\"Hub50House\" aria-hidden=\"false\" class=\"\" src=\"https://photos.zillowstatic.com/fp/2a0e3d590f8922c266896edfbde4395f-p_e.jpg\"/></a></div><div class=\"list-card-actions\"><button aria-label=\"Save\" class=\"list-card-save\" type=\"button\"><span class=\"list-card-save-content\" role=\"presentation\" tabindex=\"-1\"><svg focusable=\"false\" height=\"34\" viewbox=\"0 0 31 31\" width=\"34\" xmlns=\"http://www.w3.org/2000/svg\"><title>Save this home</title><path d=\"M18.5,0.00109769484 C22.0897727,0.00109769484 25,2.81119649 25,6.27991218 C25,8.06147091 24.2318182,9.66630077 22.9977273,10.8100988 L12.5,21 L1.8125,10.6256861 C0.690909091,9.49725576 0,7.96706915 0,6.27881449 C0,2.81119649 2.91022727,3.19744231e-14 6.5,3.19744231e-14 C9.20227273,3.19744231e-14 11.5193182,1.5949506 12.5,3.86388584 C13.4795455,1.5949506 15.7965909,0.00109769484 18.5,0.00109769484 L18.5,0.00109769484 Z\" fill=\"#000\" fill-opacity=\"0.2\" stroke=\"#FFF\" stroke-width=\"2\" transform=\"translate(3 3)\"></path></svg></span></button></div></article></li>, <li class=\"\">$3,553+<abbr class=\"list-card-label\"> <!-- -->1 bd</abbr></li>, <li class=\"\">$5,675+<abbr class=\"list-card-label\"> <!-- -->2 bds</abbr></li>, <li class=\"\">$9,483+<abbr class=\"list-card-label\"> <!-- -->3 bds</abbr></li>, <li><article class=\"list-card list-card-additional-attribution list-card_not-saved list-card_building\" id=\"zpid_42.362183--71.059654\" role=\"presentation\"><div class=\"list-card-info\"><a class=\"list-card-link list-card-link-top-margin\" href=\"/b/The-Sudbury-Boston-MA/42.362183,-71.059654_ll/\" tabindex=\"0\"><address class=\"list-card-addr\">The Sudbury | 100 Sudbury St, Boston, MA</address></a><div class=\"list-card-footer\"></div><div class=\"list-card-heading\"><div class=\"list-card-price\">$3,278+<abbr class=\"list-card-label\"> <!-- -->Studio</abbr></div><ul class=\"list-card-details\"><li class=\"\">$3,729+<abbr class=\"list-card-label\"> <!-- -->1 bd</abbr></li><li class=\"\">$5,270+<abbr class=\"list-card-label\"> <!-- -->2 bds</abbr></li><li class=\"\">$7,295+<abbr class=\"list-card-label\"> <!-- -->3 bds</abbr></li></ul></div></div><div class=\"list-card-top\"><div class=\"list-card-variable-text list-card-img-overlay\">1 day ago</div><a aria-hidden=\"false\" class=\"list-card-link list-card-link-top-margin list-card-img\" href=\"/b/The-Sudbury-Boston-MA/42.362183,-71.059654_ll/\" tabindex=\"-1\"><img alt=\"The Sudbury\" aria-hidden=\"false\" class=\"\" src=\"https://photos.zillowstatic.com/fp/ff4a7f9527ff9ddb1162b837c415ecd7-p_e.jpg\"/></a></div></article></li>, <li class=\"\">$3,729+<abbr class=\"list-card-label\"> <!-- -->1 bd</abbr></li>, <li class=\"\">$5,270+<abbr class=\"list-card-label\"> <!-- -->2 bds</abbr></li>, <li class=\"\">$7,295+<abbr class=\"list-card-label\"> <!-- -->3 bds</abbr></li>, <li><div class=\"srp__sc-1qq8b8l-1 eNxUWk\" id=\"nav-ad-container\"><div class=\"srp__sc-1qq8b8l-0 bypHBF\"><div class=\"Flex-c11n-8-62-4__sc-n94bjd-0 bseWUq\"><p class=\"Text-c11n-8-62-4__sc-aiai24-0 jWosWV\"><svg aria-hidden=\"true\" class=\"StyledSpinner-c11n-8-62-4__sc-zhumcj-0 bTqTKI Icon-c11n-8-62-4__sc-13llmml-0 jXXRjv\" focusable=\"false\" role=\"img\" viewbox=\"0 0 10 10\"><title>Loading</title><defs><lineargradient id=\"__c11n_jmsaxj9_a\" x1=\".5\" x2=\"0\" y1=\"0\" y2=\".5\"><stop stop-color=\"currentColor\" stop-opacity=\"1\"></stop><stop offset=\"1\" stop-color=\"currentColor\" stop-opacity=\".75\"></stop></lineargradient><lineargradient id=\"__c11n_jmsaxj9_b\" x1=\"0\" x2=\".5\" y1=\".5\" y2=\"1\"><stop stop-color=\"currentColor\" stop-opacity=\".75\"></stop><stop offset=\"1\" stop-color=\"currentColor\" stop-opacity=\".5\"></stop></lineargradient><lineargradient id=\"__c11n_jmsaxj9_c\" x1=\".5\" x2=\"1\" y1=\"1\" y2=\".5\"><stop stop-color=\"currentColor\" stop-opacity=\".5\"></stop><stop offset=\"1\" stop-color=\"currentColor\" stop-opacity=\".25\"></stop></lineargradient><lineargradient id=\"__c11n_jmsaxj9_d\" x1=\"1\" x2=\"0\" y1=\".5\" y2=\"0\"><stop stop-color=\"currentColor\" stop-opacity=\".25\"></stop><stop offset=\"1\" stop-color=\"currentColor\" stop-opacity=\"0\"></stop></lineargradient></defs><g fill=\"none\" stroke-width=\"1.5\"><path d=\"M 5 1 A 4 4 0 0 0 1 5\" stroke=\"url(#__c11n_jmsaxj9_a)\"></path><path d=\"M 1 5 A 4 4 0 0 0 5 9\" stroke=\"url(#__c11n_jmsaxj9_b)\"></path><path d=\"M 5 9 A 4 4 0 0 0 9 5\" stroke=\"url(#__c11n_jmsaxj9_c)\"></path><path d=\"M 9 5 A 4 4 0 0 0 7 1.536\" stroke=\"url(#__c11n_jmsaxj9_d)\"></path></g><circle cx=\"5\" cy=\"1\" fill=\"currentColor\" r=\".25\"></circle></svg> Loading...</p></div><div class=\"nav-ad-gpt-container\" role=\"button\" tabindex=\"0\"></div></div></div></li>, <li><script type=\"application/ld+json\">{\"@type\":\"Event\",\"@context\":\"http://schema.org\",\"name\":\"3D Tour Available - 99 Kneeland St   # 1992752\",\"url\":\"/b/one-greenway-boston-ma-65WmdH/\",\"image\":\"https://photos.zillowstatic.com/fp/6bca51a86a2fe196571a5305f8b3a5c7-p_e.jpg\",\"startDate\":\"2022-04-28\",\"endDate\":\"2022-04-28\",\"eventAttendanceMode\":\"https://schema.org/OnlineEventAttendanceMode\",\"eventStatus\":\"https://schema.org/EventScheduled\",\"location\":[{\"@type\":\"VirtualLocation\",\"url\":\"/b/one-greenway-boston-ma-65WmdH/\"},{\"@type\":\"Place\",\"@context\":\"http://schema.org\",\"name\":\"99 Kneeland St   # 1992752\",\"address\":{\"@type\":\"PostalAddress\",\"@context\":\"http://schema.org\",\"streetAddress\":\"99 Kneeland St   # 1992752\",\"postalCode\":\"02111\",\"addressLocality\":\"Boston\",\"addressRegion\":\"MA\"}}]}</script><article class=\"list-card list-card-additional-attribution list-card_not-saved list-card_building\" id=\"zpid_42.349987--71.059685\" role=\"presentation\"><div class=\"list-card-info\"><a class=\"list-card-link list-card-link-top-margin\" href=\"/b/one-greenway-boston-ma-65WmdH/\" tabindex=\"0\"><address class=\"list-card-addr\">One Greenway | 99 Kneeland St, Boston, MA</address></a><div class=\"list-card-footer\"></div><div class=\"list-card-heading\"><div class=\"list-card-price\">$3,269+<abbr class=\"list-card-label\"> <!-- -->Studio</abbr></div><ul class=\"list-card-details\"><li class=\"\">$3,608+<abbr class=\"list-card-label\"> <!-- -->1 bd</abbr></li></ul></div></div><div class=\"list-card-top\"><div class=\"list-card-variable-text list-card-img-overlay\"><svg class=\"icon-3d-home\" viewbox=\"0 0 21.46 24.83\" xmlns=\"http://www.w3.org/2000/svg\"><title>3D Homes Icon</title><path d=\"M21.46 6.44a.4.4 0 0 0 0-.17.4.4 0 0 0-.1-.1L10.68.05a.4.4 0 0 0-.4 0L.18 6.13a.4.4 0 0 0-.1.1.4.4 0 0 0 0 .18v12a.4.4 0 0 0 .2.36l10.42 6h.33l10.24-6a.4.4 0 0 0 .2-.35v-12zM10.5.86l9.76 5.58L10.8 12 1.2 6.47zM.8 18.22V7.17l9.6 5.54v11zm10.4 5.5v-11l9.45-5.56v11.07z\"></path></svg>3D Tour</div><a aria-hidden=\"false\" class=\"list-card-link list-card-link-top-margin list-card-img\" href=\"/b/one-greenway-boston-ma-65WmdH/\" tabindex=\"-1\"><img alt=\"One Greenway\" aria-hidden=\"false\" class=\"\" src=\"https://photos.zillowstatic.com/fp/6bca51a86a2fe196571a5305f8b3a5c7-p_e.jpg\"/></a></div><div class=\"list-card-actions\"><button aria-label=\"Save\" class=\"list-card-save\" type=\"button\"><span class=\"list-card-save-content\" role=\"presentation\" tabindex=\"-1\"><svg focusable=\"false\" height=\"34\" viewbox=\"0 0 31 31\" width=\"34\" xmlns=\"http://www.w3.org/2000/svg\"><title>Save this home</title><path d=\"M18.5,0.00109769484 C22.0897727,0.00109769484 25,2.81119649 25,6.27991218 C25,8.06147091 24.2318182,9.66630077 22.9977273,10.8100988 L12.5,21 L1.8125,10.6256861 C0.690909091,9.49725576 0,7.96706915 0,6.27881449 C0,2.81119649 2.91022727,3.19744231e-14 6.5,3.19744231e-14 C9.20227273,3.19744231e-14 11.5193182,1.5949506 12.5,3.86388584 C13.4795455,1.5949506 15.7965909,0.00109769484 18.5,0.00109769484 L18.5,0.00109769484 Z\" fill=\"#000\" fill-opacity=\"0.2\" stroke=\"#FFF\" stroke-width=\"2\" transform=\"translate(3 3)\"></path></svg></span></button></div></article></li>, <li class=\"\">$3,608+<abbr class=\"list-card-label\"> <!-- -->1 bd</abbr></li>, <li><script type=\"application/ld+json\">{\"@type\":\"Event\",\"@context\":\"http://schema.org\",\"name\":\"3D Tour Available - 1350 Boylston St   # 608\",\"url\":\"/b/the-harlo-boston-ma-5fNMSs/\",\"image\":\"https://photos.zillowstatic.com/fp/0c3b6146787dacbd86b2965e951a763b-p_e.jpg\",\"startDate\":\"2022-04-28\",\"endDate\":\"2022-04-28\",\"eventAttendanceMode\":\"https://schema.org/OnlineEventAttendanceMode\",\"eventStatus\":\"https://schema.org/EventScheduled\",\"location\":[{\"@type\":\"VirtualLocation\",\"url\":\"/b/the-harlo-boston-ma-5fNMSs/\"},{\"@type\":\"Place\",\"@context\":\"http://schema.org\",\"name\":\"1350 Boylston St   # 608\",\"address\":{\"@type\":\"PostalAddress\",\"@context\":\"http://schema.org\",\"streetAddress\":\"1350 Boylston St   # 608\",\"postalCode\":\"02215\",\"addressLocality\":\"Boston\",\"addressRegion\":\"MA\"}}]}</script><article class=\"list-card list-card-additional-attribution list-card_not-saved list-card_building\" id=\"zpid_42.343803--71.09943\" role=\"presentation\"><div class=\"list-card-info\"><a class=\"list-card-link list-card-link-top-margin\" href=\"/b/the-harlo-boston-ma-5fNMSs/\" tabindex=\"0\"><address class=\"list-card-addr\">The Harlo | 1350 Boylston St, Boston, MA</address></a><div class=\"list-card-footer\"></div><div class=\"list-card-heading\"><div class=\"list-card-price\">$3,253+<abbr class=\"list-card-label\"> <!-- -->Studio</abbr></div><ul class=\"list-card-details\"><li class=\"\">$4,154+<abbr class=\"list-card-label\"> <!-- -->1 bd</abbr></li><li class=\"\">$4,987+<abbr class=\"list-card-label\"> <!-- -->2 bds</abbr></li><li class=\"\">$6,551+<abbr class=\"list-card-label\"> <!-- -->3 bds</abbr></li></ul></div></div><div class=\"list-card-top\"><div class=\"list-card-variable-text list-card-img-overlay\"><svg class=\"icon-3d-home\" viewbox=\"0 0 21.46 24.83\" xmlns=\"http://www.w3.org/2000/svg\"><title>3D Homes Icon</title><path d=\"M21.46 6.44a.4.4 0 0 0 0-.17.4.4 0 0 0-.1-.1L10.68.05a.4.4 0 0 0-.4 0L.18 6.13a.4.4 0 0 0-.1.1.4.4 0 0 0 0 .18v12a.4.4 0 0 0 .2.36l10.42 6h.33l10.24-6a.4.4 0 0 0 .2-.35v-12zM10.5.86l9.76 5.58L10.8 12 1.2 6.47zM.8 18.22V7.17l9.6 5.54v11zm10.4 5.5v-11l9.45-5.56v11.07z\"></path></svg>3D Tour</div><a aria-hidden=\"false\" class=\"list-card-link list-card-link-top-margin list-card-img\" href=\"/b/the-harlo-boston-ma-5fNMSs/\" tabindex=\"-1\"><img alt=\"The Harlo\" aria-hidden=\"false\" class=\"\" src=\"https://photos.zillowstatic.com/fp/0c3b6146787dacbd86b2965e951a763b-p_e.jpg\"/></a></div><div class=\"list-card-actions\"><button aria-label=\"Save\" class=\"list-card-save\" type=\"button\"><span class=\"list-card-save-content\" role=\"presentation\" tabindex=\"-1\"><svg focusable=\"false\" height=\"34\" viewbox=\"0 0 31 31\" width=\"34\" xmlns=\"http://www.w3.org/2000/svg\"><title>Save this home</title><path d=\"M18.5,0.00109769484 C22.0897727,0.00109769484 25,2.81119649 25,6.27991218 C25,8.06147091 24.2318182,9.66630077 22.9977273,10.8100988 L12.5,21 L1.8125,10.6256861 C0.690909091,9.49725576 0,7.96706915 0,6.27881449 C0,2.81119649 2.91022727,3.19744231e-14 6.5,3.19744231e-14 C9.20227273,3.19744231e-14 11.5193182,1.5949506 12.5,3.86388584 C13.4795455,1.5949506 15.7965909,0.00109769484 18.5,0.00109769484 L18.5,0.00109769484 Z\" fill=\"#000\" fill-opacity=\"0.2\" stroke=\"#FFF\" stroke-width=\"2\" transform=\"translate(3 3)\"></path></svg></span></button></div></article></li>, <li class=\"\">$4,154+<abbr class=\"list-card-label\"> <!-- -->1 bd</abbr></li>, <li class=\"\">$4,987+<abbr class=\"list-card-label\"> <!-- -->2 bds</abbr></li>, <li class=\"\">$6,551+<abbr class=\"list-card-label\"> <!-- -->3 bds</abbr></li>, <li><script type=\"application/ld+json\">{\"@type\":\"SingleFamilyResidence\",\"@context\":\"http://schema.org\",\"name\":\"530 Atlantic Ave Apt 202, Boston, MA 02210\",\"floorSize\":{\"@type\":\"QuantitativeValue\",\"@context\":\"http://schema.org\",\"value\":\"740\"},\"address\":{\"@type\":\"PostalAddress\",\"@context\":\"http://schema.org\",\"streetAddress\":\"530 Atlantic Ave APT 202\",\"addressLocality\":\"Boston\",\"addressRegion\":\"MA\",\"postalCode\":\"02210\"},\"geo\":{\"@type\":\"GeoCoordinates\",\"@context\":\"http://schema.org\",\"latitude\":42.35369,\"longitude\":-71.05301},\"url\":\"https://www.zillow.com/homedetails/530-Atlantic-Ave-APT-202-Boston-MA-02210/2090018407_zpid/\"}</script><article class=\"list-card list-card-additional-attribution list-card_not-saved\" id=\"zpid_2090018407\" role=\"presentation\"><div class=\"list-card-info\"><a class=\"list-card-link list-card-link-top-margin\" href=\"https://www.zillow.com/homedetails/530-Atlantic-Ave-APT-202-Boston-MA-02210/2090018407_zpid/\" tabindex=\"0\"><address class=\"list-card-addr\">The Lofts at Atlantic Wharf, 530 Atlantic Ave APT 202, Boston, MA 02210</address></a><div class=\"list-card-footer\"></div><div class=\"list-card-heading\"><div class=\"list-card-price\">$3,754/mo</div><ul class=\"list-card-details\"><li class=\"\">Studio</li><li class=\"\">1<abbr class=\"list-card-label\"> <!-- -->ba</abbr></li><li class=\"\">740<abbr class=\"list-card-label\"> <!-- -->sqft</abbr></li><li class=\"list-card-statusText\">- Apartment for rent</li></ul></div></div><div class=\"list-card-top\"><div class=\"list-card-variable-text list-card-img-overlay\">1 day ago</div><a aria-hidden=\"false\" class=\"list-card-link list-card-link-top-margin list-card-img\" href=\"https://www.zillow.com/homedetails/530-Atlantic-Ave-APT-202-Boston-MA-02210/2090018407_zpid/\" tabindex=\"-1\"><img alt=\"The Lofts at Atlantic Wharf, 530 Atlantic Ave APT 202, Boston, MA 02210\" aria-hidden=\"false\" class=\"\" src=\"https://photos.zillowstatic.com/fp/b301c226be4c9b4f19233410eee54f44-p_e.jpg\"/></a></div><div class=\"list-card-actions\"><button aria-label=\"Save\" class=\"list-card-save\" type=\"button\"><span class=\"list-card-save-content\" role=\"presentation\" tabindex=\"-1\"><svg focusable=\"false\" height=\"34\" viewbox=\"0 0 31 31\" width=\"34\" xmlns=\"http://www.w3.org/2000/svg\"><title>Save this home</title><path d=\"M18.5,0.00109769484 C22.0897727,0.00109769484 25,2.81119649 25,6.27991218 C25,8.06147091 24.2318182,9.66630077 22.9977273,10.8100988 L12.5,21 L1.8125,10.6256861 C0.690909091,9.49725576 0,7.96706915 0,6.27881449 C0,2.81119649 2.91022727,3.19744231e-14 6.5,3.19744231e-14 C9.20227273,3.19744231e-14 11.5193182,1.5949506 12.5,3.86388584 C13.4795455,1.5949506 15.7965909,0.00109769484 18.5,0.00109769484 L18.5,0.00109769484 Z\" fill=\"#000\" fill-opacity=\"0.2\" stroke=\"#FFF\" stroke-width=\"2\" transform=\"translate(3 3)\"></path></svg></span></button></div></article></li>, <li class=\"\">Studio</li>, <li class=\"\">1<abbr class=\"list-card-label\"> <!-- -->ba</abbr></li>, <li class=\"\">740<abbr class=\"list-card-label\"> <!-- -->sqft</abbr></li>, <li class=\"list-card-statusText\">- Apartment for rent</li>, <li><article class=\"list-card list-card-additional-attribution list-card_not-saved list-card_building\" id=\"zpid_42.34766--71.134125\" role=\"presentation\"><div class=\"list-card-info\"><a class=\"list-card-link list-card-link-top-margin\" href=\"/b/eco-allston-ma-5XksSc/\" tabindex=\"0\"><address class=\"list-card-addr\">Eco | 75 Brainerd Rd, Allston, MA</address></a><div class=\"list-card-footer\"></div><div class=\"list-card-heading\"><div class=\"list-card-price\">$2,389+<abbr class=\"list-card-label\"> <!-- -->Studio</abbr></div><ul class=\"list-card-details\"><li class=\"\">$5,114+<abbr class=\"list-card-label\"> <!-- -->2 bds</abbr></li></ul></div></div><div class=\"list-card-top\"><div class=\"list-card-variable-text list-card-img-overlay\">1 day ago</div><a aria-hidden=\"false\" class=\"list-card-link list-card-link-top-margin list-card-img\" href=\"/b/eco-allston-ma-5XksSc/\" tabindex=\"-1\"><img alt=\"Eco\" aria-hidden=\"false\" class=\"\" src=\"https://photos.zillowstatic.com/fp/9d7e53a1a144caccb326ca61375004ab-p_e.jpg\"/></a></div><div class=\"list-card-actions\"><button aria-label=\"Save\" class=\"list-card-save\" type=\"button\"><span class=\"list-card-save-content\" role=\"presentation\" tabindex=\"-1\"><svg focusable=\"false\" height=\"34\" viewbox=\"0 0 31 31\" width=\"34\" xmlns=\"http://www.w3.org/2000/svg\"><title>Save this home</title><path d=\"M18.5,0.00109769484 C22.0897727,0.00109769484 25,2.81119649 25,6.27991218 C25,8.06147091 24.2318182,9.66630077 22.9977273,10.8100988 L12.5,21 L1.8125,10.6256861 C0.690909091,9.49725576 0,7.96706915 0,6.27881449 C0,2.81119649 2.91022727,3.19744231e-14 6.5,3.19744231e-14 C9.20227273,3.19744231e-14 11.5193182,1.5949506 12.5,3.86388584 C13.4795455,1.5949506 15.7965909,0.00109769484 18.5,0.00109769484 L18.5,0.00109769484 Z\" fill=\"#000\" fill-opacity=\"0.2\" stroke=\"#FFF\" stroke-width=\"2\" transform=\"translate(3 3)\"></path></svg></span></button></div></article></li>, <li class=\"\">$5,114+<abbr class=\"list-card-label\"> <!-- -->2 bds</abbr></li>, <li><script type=\"application/ld+json\">{\"@type\":\"Event\",\"@context\":\"http://schema.org\",\"name\":\"3D Tour Available - 110 Beverly St   # 2450311\",\"url\":\"/b/the-victor-by-windsor-boston-ma-5XmCFX/\",\"image\":\"https://photos.zillowstatic.com/fp/f8d44421c99e55e0f12ba3343d5ad042-p_e.jpg\",\"startDate\":\"2022-04-28\",\"endDate\":\"2022-04-28\",\"eventAttendanceMode\":\"https://schema.org/OnlineEventAttendanceMode\",\"eventStatus\":\"https://schema.org/EventScheduled\",\"location\":[{\"@type\":\"VirtualLocation\",\"url\":\"/b/the-victor-by-windsor-boston-ma-5XmCFX/\"},{\"@type\":\"Place\",\"@context\":\"http://schema.org\",\"name\":\"110 Beverly St   # 2450311\",\"address\":{\"@type\":\"PostalAddress\",\"@context\":\"http://schema.org\",\"streetAddress\":\"110 Beverly St   # 2450311\",\"postalCode\":\"02114\",\"addressLocality\":\"Boston\",\"addressRegion\":\"MA\"}}]}</script><article class=\"list-card list-card-additional-attribution list-card_not-saved list-card_building\" id=\"zpid_42.365517--71.0598\" role=\"presentation\"><div class=\"list-card-info\"><a class=\"list-card-link list-card-link-top-margin\" href=\"/b/the-victor-by-windsor-boston-ma-5XmCFX/\" tabindex=\"0\"><address class=\"list-card-addr\">The Victor by Windsor | 110 Beverly St, Boston, MA</address></a><div class=\"list-card-footer\"></div><div class=\"list-card-heading\"><div class=\"list-card-price\">$2,560+<abbr class=\"list-card-label\"> <!-- -->Studio</abbr></div><ul class=\"list-card-details\"><li class=\"\">$3,240+<abbr class=\"list-card-label\"> <!-- -->1 bd</abbr></li><li class=\"\">$4,335+<abbr class=\"list-card-label\"> <!-- -->2 bds</abbr></li></ul></div></div><div class=\"list-card-top\"><div class=\"list-card-variable-text list-card-img-overlay\"><svg class=\"icon-3d-home\" viewbox=\"0 0 21.46 24.83\" xmlns=\"http://www.w3.org/2000/svg\"><title>3D Homes Icon</title><path d=\"M21.46 6.44a.4.4 0 0 0 0-.17.4.4 0 0 0-.1-.1L10.68.05a.4.4 0 0 0-.4 0L.18 6.13a.4.4 0 0 0-.1.1.4.4 0 0 0 0 .18v12a.4.4 0 0 0 .2.36l10.42 6h.33l10.24-6a.4.4 0 0 0 .2-.35v-12zM10.5.86l9.76 5.58L10.8 12 1.2 6.47zM.8 18.22V7.17l9.6 5.54v11zm10.4 5.5v-11l9.45-5.56v11.07z\"></path></svg>3D Tour</div><a aria-hidden=\"false\" class=\"list-card-link list-card-link-top-margin list-card-img\" href=\"/b/the-victor-by-windsor-boston-ma-5XmCFX/\" tabindex=\"-1\"><img alt=\"The Victor by Windsor\" aria-hidden=\"false\" class=\"\" src=\"https://photos.zillowstatic.com/fp/f8d44421c99e55e0f12ba3343d5ad042-p_e.jpg\"/></a></div><div class=\"list-card-actions\"><button aria-label=\"Save\" class=\"list-card-save\" type=\"button\"><span class=\"list-card-save-content\" role=\"presentation\" tabindex=\"-1\"><svg focusable=\"false\" height=\"34\" viewbox=\"0 0 31 31\" width=\"34\" xmlns=\"http://www.w3.org/2000/svg\"><title>Save this home</title><path d=\"M18.5,0.00109769484 C22.0897727,0.00109769484 25,2.81119649 25,6.27991218 C25,8.06147091 24.2318182,9.66630077 22.9977273,10.8100988 L12.5,21 L1.8125,10.6256861 C0.690909091,9.49725576 0,7.96706915 0,6.27881449 C0,2.81119649 2.91022727,3.19744231e-14 6.5,3.19744231e-14 C9.20227273,3.19744231e-14 11.5193182,1.5949506 12.5,3.86388584 C13.4795455,1.5949506 15.7965909,0.00109769484 18.5,0.00109769484 L18.5,0.00109769484 Z\" fill=\"#000\" fill-opacity=\"0.2\" stroke=\"#FFF\" stroke-width=\"2\" transform=\"translate(3 3)\"></path></svg></span></button></div></article></li>, <li class=\"\">$3,240+<abbr class=\"list-card-label\"> <!-- -->1 bd</abbr></li>, <li class=\"\">$4,335+<abbr class=\"list-card-label\"> <!-- -->2 bds</abbr></li>, <li><article class=\"list-card list-card-additional-attribution list-card_not-saved list-card_building\" id=\"zpid_42.346207--71.10315\" role=\"presentation\"><div class=\"list-card-info\"><a class=\"list-card-link\" href=\"/b/fenway-diamond-at-9-miner-street-boston-ma-5YwqXf/\" tabindex=\"0\"><address class=\"list-card-addr\">Fenway Diamond at 9 Miner Street | 9 Miner St, Boston, MA</address></a><div class=\"list-card-footer\"></div><div class=\"list-card-heading\"><div class=\"list-card-price\">$3,250+<abbr class=\"list-card-label\"> <!-- -->1 bd</abbr></div><ul class=\"list-card-details\"></ul></div></div><div class=\"list-card-top\"><div class=\"list-card-variable-text list-card-img-overlay\">Updated today</div><a aria-hidden=\"false\" class=\"list-card-link list-card-img\" href=\"/b/fenway-diamond-at-9-miner-street-boston-ma-5YwqXf/\" tabindex=\"-1\"><img alt=\"Fenway Diamond at 9 Miner Street\" aria-hidden=\"false\" class=\"\" src=\"https://photos.zillowstatic.com/fp/cd2e8830fab5905906c60249dcb4e5ac-p_e.jpg\"/></a></div><div class=\"list-card-actions\"><button aria-label=\"Save\" class=\"list-card-save\" type=\"button\"><span class=\"list-card-save-content\" role=\"presentation\" tabindex=\"-1\"><svg focusable=\"false\" height=\"34\" viewbox=\"0 0 31 31\" width=\"34\" xmlns=\"http://www.w3.org/2000/svg\"><title>Save this home</title><path d=\"M18.5,0.00109769484 C22.0897727,0.00109769484 25,2.81119649 25,6.27991218 C25,8.06147091 24.2318182,9.66630077 22.9977273,10.8100988 L12.5,21 L1.8125,10.6256861 C0.690909091,9.49725576 0,7.96706915 0,6.27881449 C0,2.81119649 2.91022727,3.19744231e-14 6.5,3.19744231e-14 C9.20227273,3.19744231e-14 11.5193182,1.5949506 12.5,3.86388584 C13.4795455,1.5949506 15.7965909,0.00109769484 18.5,0.00109769484 L18.5,0.00109769484 Z\" fill=\"#000\" fill-opacity=\"0.2\" stroke=\"#FFF\" stroke-width=\"2\" transform=\"translate(3 3)\"></path></svg></span></button></div></article></li>, <li><script type=\"application/ld+json\">{\"@type\":\"Event\",\"@context\":\"http://schema.org\",\"name\":\"3D Tour Available - 120 Kingston St   Unit 1506\",\"url\":\"/b/radian-boston-ma-5XjQjN/\",\"image\":\"https://photos.zillowstatic.com/fp/1602facbaa9a5a50a7d5cfa1e2078769-p_e.jpg\",\"startDate\":\"2022-04-28\",\"endDate\":\"2022-04-28\",\"eventAttendanceMode\":\"https://schema.org/OnlineEventAttendanceMode\",\"eventStatus\":\"https://schema.org/EventScheduled\",\"location\":[{\"@type\":\"VirtualLocation\",\"url\":\"/b/radian-boston-ma-5XjQjN/\"},{\"@type\":\"Place\",\"@context\":\"http://schema.org\",\"name\":\"120 Kingston St   Unit 1506\",\"address\":{\"@type\":\"PostalAddress\",\"@context\":\"http://schema.org\",\"streetAddress\":\"120 Kingston St   Unit 1506\",\"postalCode\":\"02111\",\"addressLocality\":\"Boston\",\"addressRegion\":\"MA\"}}]}</script><article class=\"list-card list-card-additional-attribution list-card_not-saved list-card_building\" id=\"zpid_42.352215--71.05906\" role=\"presentation\"><div class=\"list-card-info\"><a class=\"list-card-link list-card-link-top-margin\" href=\"/b/radian-boston-ma-5XjQjN/\" tabindex=\"0\"><address class=\"list-card-addr\">Radian | 120 Kingston St, Boston, MA</address></a><div class=\"list-card-footer\"></div><div class=\"list-card-heading\"><div class=\"list-card-price\">$2,767+<abbr class=\"list-card-label\"> <!-- -->Studio</abbr></div><ul class=\"list-card-details\"><li class=\"\">$3,261+<abbr class=\"list-card-label\"> <!-- -->1 bd</abbr></li><li class=\"\">$5,187+<abbr class=\"list-card-label\"> <!-- -->2 bds</abbr></li></ul></div></div><div class=\"list-card-top\"><div class=\"list-card-variable-text list-card-img-overlay\"><svg class=\"icon-3d-home\" viewbox=\"0 0 21.46 24.83\" xmlns=\"http://www.w3.org/2000/svg\"><title>3D Homes Icon</title><path d=\"M21.46 6.44a.4.4 0 0 0 0-.17.4.4 0 0 0-.1-.1L10.68.05a.4.4 0 0 0-.4 0L.18 6.13a.4.4 0 0 0-.1.1.4.4 0 0 0 0 .18v12a.4.4 0 0 0 .2.36l10.42 6h.33l10.24-6a.4.4 0 0 0 .2-.35v-12zM10.5.86l9.76 5.58L10.8 12 1.2 6.47zM.8 18.22V7.17l9.6 5.54v11zm10.4 5.5v-11l9.45-5.56v11.07z\"></path></svg>3D Tour</div><a aria-hidden=\"false\" class=\"list-card-link list-card-link-top-margin list-card-img\" href=\"/b/radian-boston-ma-5XjQjN/\" tabindex=\"-1\"><img alt=\"Radian\" aria-hidden=\"false\" class=\"\" src=\"https://photos.zillowstatic.com/fp/1602facbaa9a5a50a7d5cfa1e2078769-p_e.jpg\"/></a></div><div class=\"list-card-actions\"><button aria-label=\"Save\" class=\"list-card-save\" type=\"button\"><span class=\"list-card-save-content\" role=\"presentation\" tabindex=\"-1\"><svg focusable=\"false\" height=\"34\" viewbox=\"0 0 31 31\" width=\"34\" xmlns=\"http://www.w3.org/2000/svg\"><title>Save this home</title><path d=\"M18.5,0.00109769484 C22.0897727,0.00109769484 25,2.81119649 25,6.27991218 C25,8.06147091 24.2318182,9.66630077 22.9977273,10.8100988 L12.5,21 L1.8125,10.6256861 C0.690909091,9.49725576 0,7.96706915 0,6.27881449 C0,2.81119649 2.91022727,3.19744231e-14 6.5,3.19744231e-14 C9.20227273,3.19744231e-14 11.5193182,1.5949506 12.5,3.86388584 C13.4795455,1.5949506 15.7965909,0.00109769484 18.5,0.00109769484 L18.5,0.00109769484 Z\" fill=\"#000\" fill-opacity=\"0.2\" stroke=\"#FFF\" stroke-width=\"2\" transform=\"translate(3 3)\"></path></svg></span></button></div></article></li>, <li class=\"\">$3,261+<abbr class=\"list-card-label\"> <!-- -->1 bd</abbr></li>, <li class=\"\">$5,187+<abbr class=\"list-card-label\"> <!-- -->2 bds</abbr></li>, <li><article class=\"list-card list-card-additional-attribution list-card_not-saved\" id=\"zpid_42.356525--71.142914\" role=\"presentation\"><div class=\"list-card-info list-card-additional-attribution-space\"><div class=\"list-card-footer\"></div><div class=\"list-card-heading\"></div></div><div class=\"list-card-top\"><div class=\"list-card-link list-card-link-top-margin list-card-img\"></div></div></article></li>, <li><article class=\"list-card list-card-additional-attribution list-card_not-saved\" id=\"zpid_42.361317--71.14533\" role=\"presentation\"><div class=\"list-card-info list-card-additional-attribution-space\"><div class=\"list-card-footer\"></div><div class=\"list-card-heading\"></div></div><div class=\"list-card-top\"><div class=\"list-card-link list-card-link-top-margin list-card-img\"></div></div></article></li>, <li><article class=\"list-card list-card-additional-attribution list-card_not-saved\" id=\"zpid_42.347523--71.133156\" role=\"presentation\"><div class=\"list-card-info list-card-additional-attribution-space\"><div class=\"list-card-footer\"></div><div class=\"list-card-heading\"></div></div><div class=\"list-card-top\"><div class=\"list-card-link list-card-link-top-margin list-card-img\"></div></div></article></li>, <li><article class=\"list-card list-card-additional-attribution list-card_not-saved\" id=\"zpid_42.346832--71.075424\" role=\"presentation\"><div class=\"list-card-info list-card-additional-attribution-space\"><div class=\"list-card-footer\"></div><div class=\"list-card-heading\"></div></div><div class=\"list-card-top\"><div class=\"list-card-link list-card-link-top-margin list-card-img\"></div></div></article></li>, <li><article class=\"list-card list-card-additional-attribution list-card_not-saved\" id=\"zpid_42.347942--71.133675\" role=\"presentation\"><div class=\"list-card-info list-card-additional-attribution-space\"><div class=\"list-card-footer\"></div><div class=\"list-card-heading\"></div></div><div class=\"list-card-top\"><div class=\"list-card-link list-card-link-top-margin list-card-img\"></div></div></article></li>, <li><article class=\"list-card list-card-additional-attribution list-card_not-saved\" id=\"zpid_42.30093--71.11236\" role=\"presentation\"><div class=\"list-card-info list-card-additional-attribution-space\"><div class=\"list-card-footer\"></div><div class=\"list-card-heading\"></div></div><div class=\"list-card-top\"><div class=\"list-card-link list-card-link-top-margin list-card-img\"></div></div></article></li>, <li><article class=\"list-card list-card-additional-attribution list-card_not-saved\" id=\"zpid_42.365948--71.06329\" role=\"presentation\"><div class=\"list-card-info list-card-additional-attribution-space\"><div class=\"list-card-footer\"></div><div class=\"list-card-heading\"></div></div><div class=\"list-card-top\"><div class=\"list-card-link list-card-link-top-margin list-card-img\"></div></div></article></li>, <li><article class=\"list-card list-card-additional-attribution list-card_not-saved\" id=\"zpid_42.34979--71.04442\" role=\"presentation\"><div class=\"list-card-info list-card-additional-attribution-space\"><div class=\"list-card-footer\"></div><div class=\"list-card-heading\"></div></div><div class=\"list-card-top\"><div class=\"list-card-link list-card-link-top-margin list-card-img\"></div></div></article></li>, <li><article class=\"list-card list-card-additional-attribution list-card_not-saved\" id=\"zpid_42.2674--71.171295\" role=\"presentation\"><div class=\"list-card-info list-card-additional-attribution-space\"><div class=\"list-card-footer\"></div><div class=\"list-card-heading\"></div></div><div class=\"list-card-top\"><div class=\"list-card-link list-card-link-top-margin list-card-img\"></div></div></article></li>, <li><article class=\"list-card list-card-additional-attribution list-card_not-saved\" id=\"zpid_42.349003--71.04472\" role=\"presentation\"><div class=\"list-card-info list-card-additional-attribution-space\"><div class=\"list-card-footer\"></div><div class=\"list-card-heading\"></div></div><div class=\"list-card-top\"><div class=\"list-card-link list-card-link-top-margin list-card-img\"></div></div></article></li>, <li><article class=\"list-card list-card-additional-attribution list-card_not-saved\" id=\"zpid_42.342327--71.055595\" role=\"presentation\"><div class=\"list-card-info list-card-additional-attribution-space\"><div class=\"list-card-footer\"></div><div class=\"list-card-heading\"></div></div><div class=\"list-card-top\"><div class=\"list-card-link list-card-link-top-margin list-card-img\"></div></div></article></li>, <li><article class=\"list-card list-card-additional-attribution list-card_not-saved\" id=\"zpid_42.348396--71.04207\" role=\"presentation\"><div class=\"list-card-info list-card-additional-attribution-space\"><div class=\"list-card-footer\"></div><div class=\"list-card-heading\"></div></div><div class=\"list-card-top\"><div class=\"list-card-link list-card-link-top-margin list-card-img\"></div></div></article></li>, <li><article class=\"list-card list-card-additional-attribution list-card_not-saved\" id=\"zpid_42.325657--71.11242\" role=\"presentation\"><div class=\"list-card-info list-card-additional-attribution-space\"><div class=\"list-card-footer\"></div><div class=\"list-card-heading\"></div></div><div class=\"list-card-top\"><div class=\"list-card-link list-card-link-top-margin list-card-img\"></div></div></article></li>, <li><article class=\"list-card list-card-additional-attribution list-card_not-saved\" id=\"zpid_42.36606--71.040245\" role=\"presentation\"><div class=\"list-card-info list-card-additional-attribution-space\"><div class=\"list-card-footer\"></div><div class=\"list-card-heading\"></div></div><div class=\"list-card-top\"><div class=\"list-card-link list-card-link-top-margin list-card-img\"></div></div></article></li>, <li><article class=\"list-card list-card-additional-attribution list-card_not-saved\" id=\"zpid_42.38672--71.01355\" role=\"presentation\"><div class=\"list-card-info list-card-additional-attribution-space\"><div class=\"list-card-footer\"></div><div class=\"list-card-heading\"></div></div><div class=\"list-card-top\"><div class=\"list-card-link list-card-link-top-margin list-card-img\"></div></div></article></li>, <li><article class=\"list-card list-card-additional-attribution list-card_not-saved\" id=\"zpid_42.34091--71.049706\" role=\"presentation\"><div class=\"list-card-info list-card-additional-attribution-space\"><div class=\"list-card-footer\"></div><div class=\"list-card-heading\"></div></div><div class=\"list-card-top\"><div class=\"list-card-link list-card-link-top-margin list-card-img\"></div></div></article></li>, <li><article class=\"list-card list-card-additional-attribution list-card_not-saved\" id=\"zpid_42.35403--71.13918\" role=\"presentation\"><div class=\"list-card-info list-card-additional-attribution-space\"><div class=\"list-card-footer\"></div><div class=\"list-card-heading\"></div></div><div class=\"list-card-top\"><div class=\"list-card-link list-card-link-top-margin list-card-img\"></div></div></article></li>, <li><article class=\"list-card list-card-additional-attribution list-card_not-saved\" id=\"zpid_42.348686--71.04843\" role=\"presentation\"><div class=\"list-card-info list-card-additional-attribution-space\"><div class=\"list-card-footer\"></div><div class=\"list-card-heading\"></div></div><div class=\"list-card-top\"><div class=\"list-card-link list-card-link-top-margin list-card-img\"></div></div></article></li>, <li><article class=\"list-card list-card-additional-attribution list-card_not-saved\" id=\"zpid_42.351337--71.063965\" role=\"presentation\"><div class=\"list-card-info list-card-additional-attribution-space\"><div class=\"list-card-footer\"></div><div class=\"list-card-heading\"></div></div><div class=\"list-card-top\"><div class=\"list-card-link list-card-link-top-margin list-card-img\"></div></div></article></li>, <li><article class=\"list-card list-card-additional-attribution list-card_not-saved\" id=\"zpid_42.38608--71.016235\" role=\"presentation\"><div class=\"list-card-info list-card-additional-attribution-space\"><div class=\"list-card-footer\"></div><div class=\"list-card-heading\"></div></div><div class=\"list-card-top\"><div class=\"list-card-link list-card-link-top-margin list-card-img\"></div></div></article></li>, <li><article class=\"list-card list-card-additional-attribution list-card_not-saved\" id=\"zpid_42.34803--71.04122\" role=\"presentation\"><div class=\"list-card-info list-card-additional-attribution-space\"><div class=\"list-card-footer\"></div><div class=\"list-card-heading\"></div></div><div class=\"list-card-top\"><div class=\"list-card-link list-card-link-top-margin list-card-img\"></div></div></article></li>, <li><article class=\"list-card list-card-additional-attribution list-card_not-saved\" id=\"zpid_42.348633--71.07931\" role=\"presentation\"><div class=\"list-card-info list-card-additional-attribution-space\"><div class=\"list-card-footer\"></div><div class=\"list-card-heading\"></div></div><div class=\"list-card-top\"><div class=\"list-card-link list-card-link-top-margin list-card-img\"></div></div></article></li>, <li><article class=\"list-card list-card-additional-attribution list-card_not-saved\" id=\"zpid_2092812992\" role=\"presentation\"><div class=\"list-card-info list-card-additional-attribution-space\"><div class=\"list-card-footer\"></div><div class=\"list-card-heading\"></div></div><div class=\"list-card-top\"><div class=\"list-card-link list-card-link-top-margin list-card-img\"></div></div></article></li>, <li><article class=\"list-card list-card-additional-attribution list-card_not-saved\" id=\"zpid_42.345985--71.084816\" role=\"presentation\"><div class=\"list-card-info list-card-additional-attribution-space\"><div class=\"list-card-footer\"></div><div class=\"list-card-heading\"></div></div><div class=\"list-card-top\"><div class=\"list-card-link list-card-link-top-margin list-card-img\"></div></div></article></li>, <li><article class=\"list-card list-card-additional-attribution list-card_not-saved\" id=\"zpid_42.317215--71.04131\" role=\"presentation\"><div class=\"list-card-info list-card-additional-attribution-space\"><div class=\"list-card-footer\"></div><div class=\"list-card-heading\"></div></div><div class=\"list-card-top\"><div class=\"list-card-link list-card-link-top-margin list-card-img\"></div></div></article></li>, <li><article class=\"list-card list-card-additional-attribution list-card_not-saved\" id=\"zpid_42.34012--71.068054\" role=\"presentation\"><div class=\"list-card-info list-card-additional-attribution-space\"><div class=\"list-card-footer\"></div><div class=\"list-card-heading\"></div></div><div class=\"list-card-top\"><div class=\"list-card-link list-card-link-top-margin list-card-img\"></div></div></article></li>, <li><article class=\"list-card list-card-additional-attribution list-card_not-saved\" id=\"zpid_42.346287--71.06308\" role=\"presentation\"><div class=\"list-card-info list-card-additional-attribution-space\"><div class=\"list-card-footer\"></div><div class=\"list-card-heading\"></div></div><div class=\"list-card-top\"><div class=\"list-card-link list-card-link-top-margin list-card-img\"></div></div></article></li>, <li><article class=\"list-card list-card-additional-attribution list-card_not-saved\" id=\"zpid_2065692747\" role=\"presentation\"><div class=\"list-card-info list-card-additional-attribution-space\"><div class=\"list-card-footer\"></div><div class=\"list-card-heading\"></div></div><div class=\"list-card-top\"><div class=\"list-card-link list-card-link-top-margin list-card-img\"></div></div></article></li>, <li><article class=\"list-card list-card-additional-attribution list-card_not-saved\" id=\"zpid_42.348103--71.07962\" role=\"presentation\"><div class=\"list-card-info list-card-additional-attribution-space\"><div class=\"list-card-footer\"></div><div class=\"list-card-heading\"></div></div><div class=\"list-card-top\"><div class=\"list-card-link list-card-link-top-margin list-card-img\"></div></div></article></li>, <li><article class=\"list-card list-card-additional-attribution list-card_not-saved\" id=\"zpid_42.32956--71.11137\" role=\"presentation\"><div class=\"list-card-info list-card-additional-attribution-space\"><div class=\"list-card-footer\"></div><div class=\"list-card-heading\"></div></div><div class=\"list-card-top\"><div class=\"list-card-link list-card-link-top-margin list-card-img\"></div></div></article></li>, <li><article class=\"list-card list-card-additional-attribution list-card_not-saved\" id=\"zpid_42.33347--71.10183\" role=\"presentation\"><div class=\"list-card-info list-card-additional-attribution-space\"><div class=\"list-card-footer\"></div><div class=\"list-card-heading\"></div></div><div class=\"list-card-top\"><div class=\"list-card-link list-card-link-top-margin list-card-img\"></div></div></article></li>]\n"
     ]
    }
   ],
   "source": [
    "# this one \n",
    "prop1 = select_properties(soup)\n",
    "print(prop1)"
   ]
  },
  {
   "cell_type": "code",
   "execution_count": 187,
   "id": "6958af79",
   "metadata": {},
   "outputs": [
    {
     "name": "stdout",
     "output_type": "stream",
     "text": [
      "[<div class=\"result-list-container\" id=\"grid-search-results\" role=\"main\"><div class=\"search-page-list-header\"><h1 class=\"search-title\">Boston MA Rental Listings</h1><div class=\"srp__sc-1h8ajh8-1 dxXOox search-subtitle\"><span class=\"result-count\">5,884 results</span><div class=\"srp__sc-5mqxuh-0 jifEpS sort-options visible\"><strong id=\"sort_label\">Sort by:</strong><button aria-expanded=\"false\" aria-haspopup=\"menu\" aria-label=\"Sort options, Default selected\" class=\"StyledButton-c11n-8-62-4__sc-wpcbcc-0 jovTww DropdownButton-c11n-8-62-4__sc-i5s403-0 srp__sc-5mqxuh-1 hBKzEE DropdownPopper-c11n-8-62-4__sc-1vnow1h-0 fualOl MenuPopper-c11n-8-62-4__sc-1uu201g-0 fGOhWU a11y-pagination-focus\" id=\"sort-popover\">Default<span class=\"StyledButtonIcon-c11n-8-62-4__sc-wpcbcc-1 dRUWRb\"><svg aria-hidden=\"true\" class=\"Icon-c11n-8-62-4__sc-13llmml-0 jXXRjv\" focusable=\"false\" role=\"img\" viewbox=\"0 0 32 32\"><title>Chevron Down</title><path d=\"M29.7 8.8a1 1 0 00-1.4 0L16 21 3.7 8.8a1 1 0 00-1.4 0 1 1 0 000 1.4l13 13a1 1 0 001.4 0l13-13a1 1 0 000-1.4z\" stroke=\"none\"></path></svg></span></button></div></div></div><div></div><ul class=\"photo-cards photo-cards_wow photo-cards_short\"><li><article class=\"list-card list-card-additional-attribution list-card_not-saved list-card_building\" id=\"zpid_42.36566--71.06165\" role=\"presentation\"><div class=\"list-card-info\"><a class=\"list-card-link list-card-link-top-margin\" href=\"/b/hub50house-boston-ma-9qFF3Z/\" tabindex=\"0\"><address class=\"list-card-addr\">Hub50House | 50 Causeway St, Boston, MA</address></a><div class=\"list-card-footer\"></div><div class=\"list-card-heading\"><div class=\"list-card-price\">$3,010+<abbr class=\"list-card-label\"> <!-- -->Studio</abbr></div><ul class=\"list-card-details\"><li class=\"\">$3,553+<abbr class=\"list-card-label\"> <!-- -->1 bd</abbr></li><li class=\"\">$5,675+<abbr class=\"list-card-label\"> <!-- -->2 bds</abbr></li><li class=\"\">$9,483+<abbr class=\"list-card-label\"> <!-- -->3 bds</abbr></li></ul></div></div><div class=\"list-card-top\"><div class=\"list-card-variable-text list-card-img-overlay\">Updated yesterday</div><a aria-hidden=\"false\" class=\"list-card-link list-card-link-top-margin list-card-img\" href=\"/b/hub50house-boston-ma-9qFF3Z/\" tabindex=\"-1\"><img alt=\"Hub50House\" aria-hidden=\"false\" class=\"\" src=\"https://photos.zillowstatic.com/fp/2a0e3d590f8922c266896edfbde4395f-p_e.jpg\"/></a></div><div class=\"list-card-actions\"><button aria-label=\"Save\" class=\"list-card-save\" type=\"button\"><span class=\"list-card-save-content\" role=\"presentation\" tabindex=\"-1\"><svg focusable=\"false\" height=\"34\" viewbox=\"0 0 31 31\" width=\"34\" xmlns=\"http://www.w3.org/2000/svg\"><title>Save this home</title><path d=\"M18.5,0.00109769484 C22.0897727,0.00109769484 25,2.81119649 25,6.27991218 C25,8.06147091 24.2318182,9.66630077 22.9977273,10.8100988 L12.5,21 L1.8125,10.6256861 C0.690909091,9.49725576 0,7.96706915 0,6.27881449 C0,2.81119649 2.91022727,3.19744231e-14 6.5,3.19744231e-14 C9.20227273,3.19744231e-14 11.5193182,1.5949506 12.5,3.86388584 C13.4795455,1.5949506 15.7965909,0.00109769484 18.5,0.00109769484 L18.5,0.00109769484 Z\" fill=\"#000\" fill-opacity=\"0.2\" stroke=\"#FFF\" stroke-width=\"2\" transform=\"translate(3 3)\"></path></svg></span></button></div></article></li><li><article class=\"list-card list-card-additional-attribution list-card_not-saved list-card_building\" id=\"zpid_42.362183--71.059654\" role=\"presentation\"><div class=\"list-card-info\"><a class=\"list-card-link list-card-link-top-margin\" href=\"/b/The-Sudbury-Boston-MA/42.362183,-71.059654_ll/\" tabindex=\"0\"><address class=\"list-card-addr\">The Sudbury | 100 Sudbury St, Boston, MA</address></a><div class=\"list-card-footer\"></div><div class=\"list-card-heading\"><div class=\"list-card-price\">$3,278+<abbr class=\"list-card-label\"> <!-- -->Studio</abbr></div><ul class=\"list-card-details\"><li class=\"\">$3,729+<abbr class=\"list-card-label\"> <!-- -->1 bd</abbr></li><li class=\"\">$5,270+<abbr class=\"list-card-label\"> <!-- -->2 bds</abbr></li><li class=\"\">$7,295+<abbr class=\"list-card-label\"> <!-- -->3 bds</abbr></li></ul></div></div><div class=\"list-card-top\"><div class=\"list-card-variable-text list-card-img-overlay\">1 day ago</div><a aria-hidden=\"false\" class=\"list-card-link list-card-link-top-margin list-card-img\" href=\"/b/The-Sudbury-Boston-MA/42.362183,-71.059654_ll/\" tabindex=\"-1\"><img alt=\"The Sudbury\" aria-hidden=\"false\" class=\"\" src=\"https://photos.zillowstatic.com/fp/ff4a7f9527ff9ddb1162b837c415ecd7-p_e.jpg\"/></a></div></article></li><li><div class=\"srp__sc-1qq8b8l-1 eNxUWk\" id=\"nav-ad-container\"><div class=\"srp__sc-1qq8b8l-0 bypHBF\"><div class=\"Flex-c11n-8-62-4__sc-n94bjd-0 bseWUq\"><p class=\"Text-c11n-8-62-4__sc-aiai24-0 jWosWV\"><svg aria-hidden=\"true\" class=\"StyledSpinner-c11n-8-62-4__sc-zhumcj-0 bTqTKI Icon-c11n-8-62-4__sc-13llmml-0 jXXRjv\" focusable=\"false\" role=\"img\" viewbox=\"0 0 10 10\"><title>Loading</title><defs><lineargradient id=\"__c11n_jmsaxj9_a\" x1=\".5\" x2=\"0\" y1=\"0\" y2=\".5\"><stop stop-color=\"currentColor\" stop-opacity=\"1\"></stop><stop offset=\"1\" stop-color=\"currentColor\" stop-opacity=\".75\"></stop></lineargradient><lineargradient id=\"__c11n_jmsaxj9_b\" x1=\"0\" x2=\".5\" y1=\".5\" y2=\"1\"><stop stop-color=\"currentColor\" stop-opacity=\".75\"></stop><stop offset=\"1\" stop-color=\"currentColor\" stop-opacity=\".5\"></stop></lineargradient><lineargradient id=\"__c11n_jmsaxj9_c\" x1=\".5\" x2=\"1\" y1=\"1\" y2=\".5\"><stop stop-color=\"currentColor\" stop-opacity=\".5\"></stop><stop offset=\"1\" stop-color=\"currentColor\" stop-opacity=\".25\"></stop></lineargradient><lineargradient id=\"__c11n_jmsaxj9_d\" x1=\"1\" x2=\"0\" y1=\".5\" y2=\"0\"><stop stop-color=\"currentColor\" stop-opacity=\".25\"></stop><stop offset=\"1\" stop-color=\"currentColor\" stop-opacity=\"0\"></stop></lineargradient></defs><g fill=\"none\" stroke-width=\"1.5\"><path d=\"M 5 1 A 4 4 0 0 0 1 5\" stroke=\"url(#__c11n_jmsaxj9_a)\"></path><path d=\"M 1 5 A 4 4 0 0 0 5 9\" stroke=\"url(#__c11n_jmsaxj9_b)\"></path><path d=\"M 5 9 A 4 4 0 0 0 9 5\" stroke=\"url(#__c11n_jmsaxj9_c)\"></path><path d=\"M 9 5 A 4 4 0 0 0 7 1.536\" stroke=\"url(#__c11n_jmsaxj9_d)\"></path></g><circle cx=\"5\" cy=\"1\" fill=\"currentColor\" r=\".25\"></circle></svg> Loading...</p></div><div class=\"nav-ad-gpt-container\" role=\"button\" tabindex=\"0\"></div></div></div></li><li><script type=\"application/ld+json\">{\"@type\":\"Event\",\"@context\":\"http://schema.org\",\"name\":\"3D Tour Available - 99 Kneeland St   # 1992752\",\"url\":\"/b/one-greenway-boston-ma-65WmdH/\",\"image\":\"https://photos.zillowstatic.com/fp/6bca51a86a2fe196571a5305f8b3a5c7-p_e.jpg\",\"startDate\":\"2022-04-28\",\"endDate\":\"2022-04-28\",\"eventAttendanceMode\":\"https://schema.org/OnlineEventAttendanceMode\",\"eventStatus\":\"https://schema.org/EventScheduled\",\"location\":[{\"@type\":\"VirtualLocation\",\"url\":\"/b/one-greenway-boston-ma-65WmdH/\"},{\"@type\":\"Place\",\"@context\":\"http://schema.org\",\"name\":\"99 Kneeland St   # 1992752\",\"address\":{\"@type\":\"PostalAddress\",\"@context\":\"http://schema.org\",\"streetAddress\":\"99 Kneeland St   # 1992752\",\"postalCode\":\"02111\",\"addressLocality\":\"Boston\",\"addressRegion\":\"MA\"}}]}</script><article class=\"list-card list-card-additional-attribution list-card_not-saved list-card_building\" id=\"zpid_42.349987--71.059685\" role=\"presentation\"><div class=\"list-card-info\"><a class=\"list-card-link list-card-link-top-margin\" href=\"/b/one-greenway-boston-ma-65WmdH/\" tabindex=\"0\"><address class=\"list-card-addr\">One Greenway | 99 Kneeland St, Boston, MA</address></a><div class=\"list-card-footer\"></div><div class=\"list-card-heading\"><div class=\"list-card-price\">$3,269+<abbr class=\"list-card-label\"> <!-- -->Studio</abbr></div><ul class=\"list-card-details\"><li class=\"\">$3,608+<abbr class=\"list-card-label\"> <!-- -->1 bd</abbr></li></ul></div></div><div class=\"list-card-top\"><div class=\"list-card-variable-text list-card-img-overlay\"><svg class=\"icon-3d-home\" viewbox=\"0 0 21.46 24.83\" xmlns=\"http://www.w3.org/2000/svg\"><title>3D Homes Icon</title><path d=\"M21.46 6.44a.4.4 0 0 0 0-.17.4.4 0 0 0-.1-.1L10.68.05a.4.4 0 0 0-.4 0L.18 6.13a.4.4 0 0 0-.1.1.4.4 0 0 0 0 .18v12a.4.4 0 0 0 .2.36l10.42 6h.33l10.24-6a.4.4 0 0 0 .2-.35v-12zM10.5.86l9.76 5.58L10.8 12 1.2 6.47zM.8 18.22V7.17l9.6 5.54v11zm10.4 5.5v-11l9.45-5.56v11.07z\"></path></svg>3D Tour</div><a aria-hidden=\"false\" class=\"list-card-link list-card-link-top-margin list-card-img\" href=\"/b/one-greenway-boston-ma-65WmdH/\" tabindex=\"-1\"><img alt=\"One Greenway\" aria-hidden=\"false\" class=\"\" src=\"https://photos.zillowstatic.com/fp/6bca51a86a2fe196571a5305f8b3a5c7-p_e.jpg\"/></a></div><div class=\"list-card-actions\"><button aria-label=\"Save\" class=\"list-card-save\" type=\"button\"><span class=\"list-card-save-content\" role=\"presentation\" tabindex=\"-1\"><svg focusable=\"false\" height=\"34\" viewbox=\"0 0 31 31\" width=\"34\" xmlns=\"http://www.w3.org/2000/svg\"><title>Save this home</title><path d=\"M18.5,0.00109769484 C22.0897727,0.00109769484 25,2.81119649 25,6.27991218 C25,8.06147091 24.2318182,9.66630077 22.9977273,10.8100988 L12.5,21 L1.8125,10.6256861 C0.690909091,9.49725576 0,7.96706915 0,6.27881449 C0,2.81119649 2.91022727,3.19744231e-14 6.5,3.19744231e-14 C9.20227273,3.19744231e-14 11.5193182,1.5949506 12.5,3.86388584 C13.4795455,1.5949506 15.7965909,0.00109769484 18.5,0.00109769484 L18.5,0.00109769484 Z\" fill=\"#000\" fill-opacity=\"0.2\" stroke=\"#FFF\" stroke-width=\"2\" transform=\"translate(3 3)\"></path></svg></span></button></div></article></li><li><script type=\"application/ld+json\">{\"@type\":\"Event\",\"@context\":\"http://schema.org\",\"name\":\"3D Tour Available - 1350 Boylston St   # 608\",\"url\":\"/b/the-harlo-boston-ma-5fNMSs/\",\"image\":\"https://photos.zillowstatic.com/fp/0c3b6146787dacbd86b2965e951a763b-p_e.jpg\",\"startDate\":\"2022-04-28\",\"endDate\":\"2022-04-28\",\"eventAttendanceMode\":\"https://schema.org/OnlineEventAttendanceMode\",\"eventStatus\":\"https://schema.org/EventScheduled\",\"location\":[{\"@type\":\"VirtualLocation\",\"url\":\"/b/the-harlo-boston-ma-5fNMSs/\"},{\"@type\":\"Place\",\"@context\":\"http://schema.org\",\"name\":\"1350 Boylston St   # 608\",\"address\":{\"@type\":\"PostalAddress\",\"@context\":\"http://schema.org\",\"streetAddress\":\"1350 Boylston St   # 608\",\"postalCode\":\"02215\",\"addressLocality\":\"Boston\",\"addressRegion\":\"MA\"}}]}</script><article class=\"list-card list-card-additional-attribution list-card_not-saved list-card_building\" id=\"zpid_42.343803--71.09943\" role=\"presentation\"><div class=\"list-card-info\"><a class=\"list-card-link list-card-link-top-margin\" href=\"/b/the-harlo-boston-ma-5fNMSs/\" tabindex=\"0\"><address class=\"list-card-addr\">The Harlo | 1350 Boylston St, Boston, MA</address></a><div class=\"list-card-footer\"></div><div class=\"list-card-heading\"><div class=\"list-card-price\">$3,253+<abbr class=\"list-card-label\"> <!-- -->Studio</abbr></div><ul class=\"list-card-details\"><li class=\"\">$4,154+<abbr class=\"list-card-label\"> <!-- -->1 bd</abbr></li><li class=\"\">$4,987+<abbr class=\"list-card-label\"> <!-- -->2 bds</abbr></li><li class=\"\">$6,551+<abbr class=\"list-card-label\"> <!-- -->3 bds</abbr></li></ul></div></div><div class=\"list-card-top\"><div class=\"list-card-variable-text list-card-img-overlay\"><svg class=\"icon-3d-home\" viewbox=\"0 0 21.46 24.83\" xmlns=\"http://www.w3.org/2000/svg\"><title>3D Homes Icon</title><path d=\"M21.46 6.44a.4.4 0 0 0 0-.17.4.4 0 0 0-.1-.1L10.68.05a.4.4 0 0 0-.4 0L.18 6.13a.4.4 0 0 0-.1.1.4.4 0 0 0 0 .18v12a.4.4 0 0 0 .2.36l10.42 6h.33l10.24-6a.4.4 0 0 0 .2-.35v-12zM10.5.86l9.76 5.58L10.8 12 1.2 6.47zM.8 18.22V7.17l9.6 5.54v11zm10.4 5.5v-11l9.45-5.56v11.07z\"></path></svg>3D Tour</div><a aria-hidden=\"false\" class=\"list-card-link list-card-link-top-margin list-card-img\" href=\"/b/the-harlo-boston-ma-5fNMSs/\" tabindex=\"-1\"><img alt=\"The Harlo\" aria-hidden=\"false\" class=\"\" src=\"https://photos.zillowstatic.com/fp/0c3b6146787dacbd86b2965e951a763b-p_e.jpg\"/></a></div><div class=\"list-card-actions\"><button aria-label=\"Save\" class=\"list-card-save\" type=\"button\"><span class=\"list-card-save-content\" role=\"presentation\" tabindex=\"-1\"><svg focusable=\"false\" height=\"34\" viewbox=\"0 0 31 31\" width=\"34\" xmlns=\"http://www.w3.org/2000/svg\"><title>Save this home</title><path d=\"M18.5,0.00109769484 C22.0897727,0.00109769484 25,2.81119649 25,6.27991218 C25,8.06147091 24.2318182,9.66630077 22.9977273,10.8100988 L12.5,21 L1.8125,10.6256861 C0.690909091,9.49725576 0,7.96706915 0,6.27881449 C0,2.81119649 2.91022727,3.19744231e-14 6.5,3.19744231e-14 C9.20227273,3.19744231e-14 11.5193182,1.5949506 12.5,3.86388584 C13.4795455,1.5949506 15.7965909,0.00109769484 18.5,0.00109769484 L18.5,0.00109769484 Z\" fill=\"#000\" fill-opacity=\"0.2\" stroke=\"#FFF\" stroke-width=\"2\" transform=\"translate(3 3)\"></path></svg></span></button></div></article></li><li><script type=\"application/ld+json\">{\"@type\":\"SingleFamilyResidence\",\"@context\":\"http://schema.org\",\"name\":\"530 Atlantic Ave Apt 202, Boston, MA 02210\",\"floorSize\":{\"@type\":\"QuantitativeValue\",\"@context\":\"http://schema.org\",\"value\":\"740\"},\"address\":{\"@type\":\"PostalAddress\",\"@context\":\"http://schema.org\",\"streetAddress\":\"530 Atlantic Ave APT 202\",\"addressLocality\":\"Boston\",\"addressRegion\":\"MA\",\"postalCode\":\"02210\"},\"geo\":{\"@type\":\"GeoCoordinates\",\"@context\":\"http://schema.org\",\"latitude\":42.35369,\"longitude\":-71.05301},\"url\":\"https://www.zillow.com/homedetails/530-Atlantic-Ave-APT-202-Boston-MA-02210/2090018407_zpid/\"}</script><article class=\"list-card list-card-additional-attribution list-card_not-saved\" id=\"zpid_2090018407\" role=\"presentation\"><div class=\"list-card-info\"><a class=\"list-card-link list-card-link-top-margin\" href=\"https://www.zillow.com/homedetails/530-Atlantic-Ave-APT-202-Boston-MA-02210/2090018407_zpid/\" tabindex=\"0\"><address class=\"list-card-addr\">The Lofts at Atlantic Wharf, 530 Atlantic Ave APT 202, Boston, MA 02210</address></a><div class=\"list-card-footer\"></div><div class=\"list-card-heading\"><div class=\"list-card-price\">$3,754/mo</div><ul class=\"list-card-details\"><li class=\"\">Studio</li><li class=\"\">1<abbr class=\"list-card-label\"> <!-- -->ba</abbr></li><li class=\"\">740<abbr class=\"list-card-label\"> <!-- -->sqft</abbr></li><li class=\"list-card-statusText\">- Apartment for rent</li></ul></div></div><div class=\"list-card-top\"><div class=\"list-card-variable-text list-card-img-overlay\">1 day ago</div><a aria-hidden=\"false\" class=\"list-card-link list-card-link-top-margin list-card-img\" href=\"https://www.zillow.com/homedetails/530-Atlantic-Ave-APT-202-Boston-MA-02210/2090018407_zpid/\" tabindex=\"-1\"><img alt=\"The Lofts at Atlantic Wharf, 530 Atlantic Ave APT 202, Boston, MA 02210\" aria-hidden=\"false\" class=\"\" src=\"https://photos.zillowstatic.com/fp/b301c226be4c9b4f19233410eee54f44-p_e.jpg\"/></a></div><div class=\"list-card-actions\"><button aria-label=\"Save\" class=\"list-card-save\" type=\"button\"><span class=\"list-card-save-content\" role=\"presentation\" tabindex=\"-1\"><svg focusable=\"false\" height=\"34\" viewbox=\"0 0 31 31\" width=\"34\" xmlns=\"http://www.w3.org/2000/svg\"><title>Save this home</title><path d=\"M18.5,0.00109769484 C22.0897727,0.00109769484 25,2.81119649 25,6.27991218 C25,8.06147091 24.2318182,9.66630077 22.9977273,10.8100988 L12.5,21 L1.8125,10.6256861 C0.690909091,9.49725576 0,7.96706915 0,6.27881449 C0,2.81119649 2.91022727,3.19744231e-14 6.5,3.19744231e-14 C9.20227273,3.19744231e-14 11.5193182,1.5949506 12.5,3.86388584 C13.4795455,1.5949506 15.7965909,0.00109769484 18.5,0.00109769484 L18.5,0.00109769484 Z\" fill=\"#000\" fill-opacity=\"0.2\" stroke=\"#FFF\" stroke-width=\"2\" transform=\"translate(3 3)\"></path></svg></span></button></div></article></li><li><article class=\"list-card list-card-additional-attribution list-card_not-saved list-card_building\" id=\"zpid_42.34766--71.134125\" role=\"presentation\"><div class=\"list-card-info\"><a class=\"list-card-link list-card-link-top-margin\" href=\"/b/eco-allston-ma-5XksSc/\" tabindex=\"0\"><address class=\"list-card-addr\">Eco | 75 Brainerd Rd, Allston, MA</address></a><div class=\"list-card-footer\"></div><div class=\"list-card-heading\"><div class=\"list-card-price\">$2,389+<abbr class=\"list-card-label\"> <!-- -->Studio</abbr></div><ul class=\"list-card-details\"><li class=\"\">$5,114+<abbr class=\"list-card-label\"> <!-- -->2 bds</abbr></li></ul></div></div><div class=\"list-card-top\"><div class=\"list-card-variable-text list-card-img-overlay\">1 day ago</div><a aria-hidden=\"false\" class=\"list-card-link list-card-link-top-margin list-card-img\" href=\"/b/eco-allston-ma-5XksSc/\" tabindex=\"-1\"><img alt=\"Eco\" aria-hidden=\"false\" class=\"\" src=\"https://photos.zillowstatic.com/fp/9d7e53a1a144caccb326ca61375004ab-p_e.jpg\"/></a></div><div class=\"list-card-actions\"><button aria-label=\"Save\" class=\"list-card-save\" type=\"button\"><span class=\"list-card-save-content\" role=\"presentation\" tabindex=\"-1\"><svg focusable=\"false\" height=\"34\" viewbox=\"0 0 31 31\" width=\"34\" xmlns=\"http://www.w3.org/2000/svg\"><title>Save this home</title><path d=\"M18.5,0.00109769484 C22.0897727,0.00109769484 25,2.81119649 25,6.27991218 C25,8.06147091 24.2318182,9.66630077 22.9977273,10.8100988 L12.5,21 L1.8125,10.6256861 C0.690909091,9.49725576 0,7.96706915 0,6.27881449 C0,2.81119649 2.91022727,3.19744231e-14 6.5,3.19744231e-14 C9.20227273,3.19744231e-14 11.5193182,1.5949506 12.5,3.86388584 C13.4795455,1.5949506 15.7965909,0.00109769484 18.5,0.00109769484 L18.5,0.00109769484 Z\" fill=\"#000\" fill-opacity=\"0.2\" stroke=\"#FFF\" stroke-width=\"2\" transform=\"translate(3 3)\"></path></svg></span></button></div></article></li><li><script type=\"application/ld+json\">{\"@type\":\"Event\",\"@context\":\"http://schema.org\",\"name\":\"3D Tour Available - 110 Beverly St   # 2450311\",\"url\":\"/b/the-victor-by-windsor-boston-ma-5XmCFX/\",\"image\":\"https://photos.zillowstatic.com/fp/f8d44421c99e55e0f12ba3343d5ad042-p_e.jpg\",\"startDate\":\"2022-04-28\",\"endDate\":\"2022-04-28\",\"eventAttendanceMode\":\"https://schema.org/OnlineEventAttendanceMode\",\"eventStatus\":\"https://schema.org/EventScheduled\",\"location\":[{\"@type\":\"VirtualLocation\",\"url\":\"/b/the-victor-by-windsor-boston-ma-5XmCFX/\"},{\"@type\":\"Place\",\"@context\":\"http://schema.org\",\"name\":\"110 Beverly St   # 2450311\",\"address\":{\"@type\":\"PostalAddress\",\"@context\":\"http://schema.org\",\"streetAddress\":\"110 Beverly St   # 2450311\",\"postalCode\":\"02114\",\"addressLocality\":\"Boston\",\"addressRegion\":\"MA\"}}]}</script><article class=\"list-card list-card-additional-attribution list-card_not-saved list-card_building\" id=\"zpid_42.365517--71.0598\" role=\"presentation\"><div class=\"list-card-info\"><a class=\"list-card-link list-card-link-top-margin\" href=\"/b/the-victor-by-windsor-boston-ma-5XmCFX/\" tabindex=\"0\"><address class=\"list-card-addr\">The Victor by Windsor | 110 Beverly St, Boston, MA</address></a><div class=\"list-card-footer\"></div><div class=\"list-card-heading\"><div class=\"list-card-price\">$2,560+<abbr class=\"list-card-label\"> <!-- -->Studio</abbr></div><ul class=\"list-card-details\"><li class=\"\">$3,240+<abbr class=\"list-card-label\"> <!-- -->1 bd</abbr></li><li class=\"\">$4,335+<abbr class=\"list-card-label\"> <!-- -->2 bds</abbr></li></ul></div></div><div class=\"list-card-top\"><div class=\"list-card-variable-text list-card-img-overlay\"><svg class=\"icon-3d-home\" viewbox=\"0 0 21.46 24.83\" xmlns=\"http://www.w3.org/2000/svg\"><title>3D Homes Icon</title><path d=\"M21.46 6.44a.4.4 0 0 0 0-.17.4.4 0 0 0-.1-.1L10.68.05a.4.4 0 0 0-.4 0L.18 6.13a.4.4 0 0 0-.1.1.4.4 0 0 0 0 .18v12a.4.4 0 0 0 .2.36l10.42 6h.33l10.24-6a.4.4 0 0 0 .2-.35v-12zM10.5.86l9.76 5.58L10.8 12 1.2 6.47zM.8 18.22V7.17l9.6 5.54v11zm10.4 5.5v-11l9.45-5.56v11.07z\"></path></svg>3D Tour</div><a aria-hidden=\"false\" class=\"list-card-link list-card-link-top-margin list-card-img\" href=\"/b/the-victor-by-windsor-boston-ma-5XmCFX/\" tabindex=\"-1\"><img alt=\"The Victor by Windsor\" aria-hidden=\"false\" class=\"\" src=\"https://photos.zillowstatic.com/fp/f8d44421c99e55e0f12ba3343d5ad042-p_e.jpg\"/></a></div><div class=\"list-card-actions\"><button aria-label=\"Save\" class=\"list-card-save\" type=\"button\"><span class=\"list-card-save-content\" role=\"presentation\" tabindex=\"-1\"><svg focusable=\"false\" height=\"34\" viewbox=\"0 0 31 31\" width=\"34\" xmlns=\"http://www.w3.org/2000/svg\"><title>Save this home</title><path d=\"M18.5,0.00109769484 C22.0897727,0.00109769484 25,2.81119649 25,6.27991218 C25,8.06147091 24.2318182,9.66630077 22.9977273,10.8100988 L12.5,21 L1.8125,10.6256861 C0.690909091,9.49725576 0,7.96706915 0,6.27881449 C0,2.81119649 2.91022727,3.19744231e-14 6.5,3.19744231e-14 C9.20227273,3.19744231e-14 11.5193182,1.5949506 12.5,3.86388584 C13.4795455,1.5949506 15.7965909,0.00109769484 18.5,0.00109769484 L18.5,0.00109769484 Z\" fill=\"#000\" fill-opacity=\"0.2\" stroke=\"#FFF\" stroke-width=\"2\" transform=\"translate(3 3)\"></path></svg></span></button></div></article></li><li><article class=\"list-card list-card-additional-attribution list-card_not-saved list-card_building\" id=\"zpid_42.346207--71.10315\" role=\"presentation\"><div class=\"list-card-info\"><a class=\"list-card-link\" href=\"/b/fenway-diamond-at-9-miner-street-boston-ma-5YwqXf/\" tabindex=\"0\"><address class=\"list-card-addr\">Fenway Diamond at 9 Miner Street | 9 Miner St, Boston, MA</address></a><div class=\"list-card-footer\"></div><div class=\"list-card-heading\"><div class=\"list-card-price\">$3,250+<abbr class=\"list-card-label\"> <!-- -->1 bd</abbr></div><ul class=\"list-card-details\"></ul></div></div><div class=\"list-card-top\"><div class=\"list-card-variable-text list-card-img-overlay\">Updated today</div><a aria-hidden=\"false\" class=\"list-card-link list-card-img\" href=\"/b/fenway-diamond-at-9-miner-street-boston-ma-5YwqXf/\" tabindex=\"-1\"><img alt=\"Fenway Diamond at 9 Miner Street\" aria-hidden=\"false\" class=\"\" src=\"https://photos.zillowstatic.com/fp/cd2e8830fab5905906c60249dcb4e5ac-p_e.jpg\"/></a></div><div class=\"list-card-actions\"><button aria-label=\"Save\" class=\"list-card-save\" type=\"button\"><span class=\"list-card-save-content\" role=\"presentation\" tabindex=\"-1\"><svg focusable=\"false\" height=\"34\" viewbox=\"0 0 31 31\" width=\"34\" xmlns=\"http://www.w3.org/2000/svg\"><title>Save this home</title><path d=\"M18.5,0.00109769484 C22.0897727,0.00109769484 25,2.81119649 25,6.27991218 C25,8.06147091 24.2318182,9.66630077 22.9977273,10.8100988 L12.5,21 L1.8125,10.6256861 C0.690909091,9.49725576 0,7.96706915 0,6.27881449 C0,2.81119649 2.91022727,3.19744231e-14 6.5,3.19744231e-14 C9.20227273,3.19744231e-14 11.5193182,1.5949506 12.5,3.86388584 C13.4795455,1.5949506 15.7965909,0.00109769484 18.5,0.00109769484 L18.5,0.00109769484 Z\" fill=\"#000\" fill-opacity=\"0.2\" stroke=\"#FFF\" stroke-width=\"2\" transform=\"translate(3 3)\"></path></svg></span></button></div></article></li><li><script type=\"application/ld+json\">{\"@type\":\"Event\",\"@context\":\"http://schema.org\",\"name\":\"3D Tour Available - 120 Kingston St   Unit 1506\",\"url\":\"/b/radian-boston-ma-5XjQjN/\",\"image\":\"https://photos.zillowstatic.com/fp/1602facbaa9a5a50a7d5cfa1e2078769-p_e.jpg\",\"startDate\":\"2022-04-28\",\"endDate\":\"2022-04-28\",\"eventAttendanceMode\":\"https://schema.org/OnlineEventAttendanceMode\",\"eventStatus\":\"https://schema.org/EventScheduled\",\"location\":[{\"@type\":\"VirtualLocation\",\"url\":\"/b/radian-boston-ma-5XjQjN/\"},{\"@type\":\"Place\",\"@context\":\"http://schema.org\",\"name\":\"120 Kingston St   Unit 1506\",\"address\":{\"@type\":\"PostalAddress\",\"@context\":\"http://schema.org\",\"streetAddress\":\"120 Kingston St   Unit 1506\",\"postalCode\":\"02111\",\"addressLocality\":\"Boston\",\"addressRegion\":\"MA\"}}]}</script><article class=\"list-card list-card-additional-attribution list-card_not-saved list-card_building\" id=\"zpid_42.352215--71.05906\" role=\"presentation\"><div class=\"list-card-info\"><a class=\"list-card-link list-card-link-top-margin\" href=\"/b/radian-boston-ma-5XjQjN/\" tabindex=\"0\"><address class=\"list-card-addr\">Radian | 120 Kingston St, Boston, MA</address></a><div class=\"list-card-footer\"></div><div class=\"list-card-heading\"><div class=\"list-card-price\">$2,767+<abbr class=\"list-card-label\"> <!-- -->Studio</abbr></div><ul class=\"list-card-details\"><li class=\"\">$3,261+<abbr class=\"list-card-label\"> <!-- -->1 bd</abbr></li><li class=\"\">$5,187+<abbr class=\"list-card-label\"> <!-- -->2 bds</abbr></li></ul></div></div><div class=\"list-card-top\"><div class=\"list-card-variable-text list-card-img-overlay\"><svg class=\"icon-3d-home\" viewbox=\"0 0 21.46 24.83\" xmlns=\"http://www.w3.org/2000/svg\"><title>3D Homes Icon</title><path d=\"M21.46 6.44a.4.4 0 0 0 0-.17.4.4 0 0 0-.1-.1L10.68.05a.4.4 0 0 0-.4 0L.18 6.13a.4.4 0 0 0-.1.1.4.4 0 0 0 0 .18v12a.4.4 0 0 0 .2.36l10.42 6h.33l10.24-6a.4.4 0 0 0 .2-.35v-12zM10.5.86l9.76 5.58L10.8 12 1.2 6.47zM.8 18.22V7.17l9.6 5.54v11zm10.4 5.5v-11l9.45-5.56v11.07z\"></path></svg>3D Tour</div><a aria-hidden=\"false\" class=\"list-card-link list-card-link-top-margin list-card-img\" href=\"/b/radian-boston-ma-5XjQjN/\" tabindex=\"-1\"><img alt=\"Radian\" aria-hidden=\"false\" class=\"\" src=\"https://photos.zillowstatic.com/fp/1602facbaa9a5a50a7d5cfa1e2078769-p_e.jpg\"/></a></div><div class=\"list-card-actions\"><button aria-label=\"Save\" class=\"list-card-save\" type=\"button\"><span class=\"list-card-save-content\" role=\"presentation\" tabindex=\"-1\"><svg focusable=\"false\" height=\"34\" viewbox=\"0 0 31 31\" width=\"34\" xmlns=\"http://www.w3.org/2000/svg\"><title>Save this home</title><path d=\"M18.5,0.00109769484 C22.0897727,0.00109769484 25,2.81119649 25,6.27991218 C25,8.06147091 24.2318182,9.66630077 22.9977273,10.8100988 L12.5,21 L1.8125,10.6256861 C0.690909091,9.49725576 0,7.96706915 0,6.27881449 C0,2.81119649 2.91022727,3.19744231e-14 6.5,3.19744231e-14 C9.20227273,3.19744231e-14 11.5193182,1.5949506 12.5,3.86388584 C13.4795455,1.5949506 15.7965909,0.00109769484 18.5,0.00109769484 L18.5,0.00109769484 Z\" fill=\"#000\" fill-opacity=\"0.2\" stroke=\"#FFF\" stroke-width=\"2\" transform=\"translate(3 3)\"></path></svg></span></button></div></article></li><li><article class=\"list-card list-card-additional-attribution list-card_not-saved\" id=\"zpid_42.356525--71.142914\" role=\"presentation\"><div class=\"list-card-info list-card-additional-attribution-space\"><div class=\"list-card-footer\"></div><div class=\"list-card-heading\"></div></div><div class=\"list-card-top\"><div class=\"list-card-link list-card-link-top-margin list-card-img\"></div></div></article></li><li><article class=\"list-card list-card-additional-attribution list-card_not-saved\" id=\"zpid_42.361317--71.14533\" role=\"presentation\"><div class=\"list-card-info list-card-additional-attribution-space\"><div class=\"list-card-footer\"></div><div class=\"list-card-heading\"></div></div><div class=\"list-card-top\"><div class=\"list-card-link list-card-link-top-margin list-card-img\"></div></div></article></li><li><article class=\"list-card list-card-additional-attribution list-card_not-saved\" id=\"zpid_42.347523--71.133156\" role=\"presentation\"><div class=\"list-card-info list-card-additional-attribution-space\"><div class=\"list-card-footer\"></div><div class=\"list-card-heading\"></div></div><div class=\"list-card-top\"><div class=\"list-card-link list-card-link-top-margin list-card-img\"></div></div></article></li><li><article class=\"list-card list-card-additional-attribution list-card_not-saved\" id=\"zpid_42.346832--71.075424\" role=\"presentation\"><div class=\"list-card-info list-card-additional-attribution-space\"><div class=\"list-card-footer\"></div><div class=\"list-card-heading\"></div></div><div class=\"list-card-top\"><div class=\"list-card-link list-card-link-top-margin list-card-img\"></div></div></article></li><li><article class=\"list-card list-card-additional-attribution list-card_not-saved\" id=\"zpid_42.347942--71.133675\" role=\"presentation\"><div class=\"list-card-info list-card-additional-attribution-space\"><div class=\"list-card-footer\"></div><div class=\"list-card-heading\"></div></div><div class=\"list-card-top\"><div class=\"list-card-link list-card-link-top-margin list-card-img\"></div></div></article></li><li><article class=\"list-card list-card-additional-attribution list-card_not-saved\" id=\"zpid_42.30093--71.11236\" role=\"presentation\"><div class=\"list-card-info list-card-additional-attribution-space\"><div class=\"list-card-footer\"></div><div class=\"list-card-heading\"></div></div><div class=\"list-card-top\"><div class=\"list-card-link list-card-link-top-margin list-card-img\"></div></div></article></li><li><article class=\"list-card list-card-additional-attribution list-card_not-saved\" id=\"zpid_42.365948--71.06329\" role=\"presentation\"><div class=\"list-card-info list-card-additional-attribution-space\"><div class=\"list-card-footer\"></div><div class=\"list-card-heading\"></div></div><div class=\"list-card-top\"><div class=\"list-card-link list-card-link-top-margin list-card-img\"></div></div></article></li><li><article class=\"list-card list-card-additional-attribution list-card_not-saved\" id=\"zpid_42.34979--71.04442\" role=\"presentation\"><div class=\"list-card-info list-card-additional-attribution-space\"><div class=\"list-card-footer\"></div><div class=\"list-card-heading\"></div></div><div class=\"list-card-top\"><div class=\"list-card-link list-card-link-top-margin list-card-img\"></div></div></article></li><li><article class=\"list-card list-card-additional-attribution list-card_not-saved\" id=\"zpid_42.2674--71.171295\" role=\"presentation\"><div class=\"list-card-info list-card-additional-attribution-space\"><div class=\"list-card-footer\"></div><div class=\"list-card-heading\"></div></div><div class=\"list-card-top\"><div class=\"list-card-link list-card-link-top-margin list-card-img\"></div></div></article></li><li><article class=\"list-card list-card-additional-attribution list-card_not-saved\" id=\"zpid_42.349003--71.04472\" role=\"presentation\"><div class=\"list-card-info list-card-additional-attribution-space\"><div class=\"list-card-footer\"></div><div class=\"list-card-heading\"></div></div><div class=\"list-card-top\"><div class=\"list-card-link list-card-link-top-margin list-card-img\"></div></div></article></li><li><article class=\"list-card list-card-additional-attribution list-card_not-saved\" id=\"zpid_42.342327--71.055595\" role=\"presentation\"><div class=\"list-card-info list-card-additional-attribution-space\"><div class=\"list-card-footer\"></div><div class=\"list-card-heading\"></div></div><div class=\"list-card-top\"><div class=\"list-card-link list-card-link-top-margin list-card-img\"></div></div></article></li><li><article class=\"list-card list-card-additional-attribution list-card_not-saved\" id=\"zpid_42.348396--71.04207\" role=\"presentation\"><div class=\"list-card-info list-card-additional-attribution-space\"><div class=\"list-card-footer\"></div><div class=\"list-card-heading\"></div></div><div class=\"list-card-top\"><div class=\"list-card-link list-card-link-top-margin list-card-img\"></div></div></article></li><li><article class=\"list-card list-card-additional-attribution list-card_not-saved\" id=\"zpid_42.325657--71.11242\" role=\"presentation\"><div class=\"list-card-info list-card-additional-attribution-space\"><div class=\"list-card-footer\"></div><div class=\"list-card-heading\"></div></div><div class=\"list-card-top\"><div class=\"list-card-link list-card-link-top-margin list-card-img\"></div></div></article></li><li><article class=\"list-card list-card-additional-attribution list-card_not-saved\" id=\"zpid_42.36606--71.040245\" role=\"presentation\"><div class=\"list-card-info list-card-additional-attribution-space\"><div class=\"list-card-footer\"></div><div class=\"list-card-heading\"></div></div><div class=\"list-card-top\"><div class=\"list-card-link list-card-link-top-margin list-card-img\"></div></div></article></li><li><article class=\"list-card list-card-additional-attribution list-card_not-saved\" id=\"zpid_42.38672--71.01355\" role=\"presentation\"><div class=\"list-card-info list-card-additional-attribution-space\"><div class=\"list-card-footer\"></div><div class=\"list-card-heading\"></div></div><div class=\"list-card-top\"><div class=\"list-card-link list-card-link-top-margin list-card-img\"></div></div></article></li><li><article class=\"list-card list-card-additional-attribution list-card_not-saved\" id=\"zpid_42.34091--71.049706\" role=\"presentation\"><div class=\"list-card-info list-card-additional-attribution-space\"><div class=\"list-card-footer\"></div><div class=\"list-card-heading\"></div></div><div class=\"list-card-top\"><div class=\"list-card-link list-card-link-top-margin list-card-img\"></div></div></article></li><li><article class=\"list-card list-card-additional-attribution list-card_not-saved\" id=\"zpid_42.35403--71.13918\" role=\"presentation\"><div class=\"list-card-info list-card-additional-attribution-space\"><div class=\"list-card-footer\"></div><div class=\"list-card-heading\"></div></div><div class=\"list-card-top\"><div class=\"list-card-link list-card-link-top-margin list-card-img\"></div></div></article></li><li><article class=\"list-card list-card-additional-attribution list-card_not-saved\" id=\"zpid_42.348686--71.04843\" role=\"presentation\"><div class=\"list-card-info list-card-additional-attribution-space\"><div class=\"list-card-footer\"></div><div class=\"list-card-heading\"></div></div><div class=\"list-card-top\"><div class=\"list-card-link list-card-link-top-margin list-card-img\"></div></div></article></li><li><article class=\"list-card list-card-additional-attribution list-card_not-saved\" id=\"zpid_42.351337--71.063965\" role=\"presentation\"><div class=\"list-card-info list-card-additional-attribution-space\"><div class=\"list-card-footer\"></div><div class=\"list-card-heading\"></div></div><div class=\"list-card-top\"><div class=\"list-card-link list-card-link-top-margin list-card-img\"></div></div></article></li><li><article class=\"list-card list-card-additional-attribution list-card_not-saved\" id=\"zpid_42.38608--71.016235\" role=\"presentation\"><div class=\"list-card-info list-card-additional-attribution-space\"><div class=\"list-card-footer\"></div><div class=\"list-card-heading\"></div></div><div class=\"list-card-top\"><div class=\"list-card-link list-card-link-top-margin list-card-img\"></div></div></article></li><li><article class=\"list-card list-card-additional-attribution list-card_not-saved\" id=\"zpid_42.34803--71.04122\" role=\"presentation\"><div class=\"list-card-info list-card-additional-attribution-space\"><div class=\"list-card-footer\"></div><div class=\"list-card-heading\"></div></div><div class=\"list-card-top\"><div class=\"list-card-link list-card-link-top-margin list-card-img\"></div></div></article></li><li><article class=\"list-card list-card-additional-attribution list-card_not-saved\" id=\"zpid_42.348633--71.07931\" role=\"presentation\"><div class=\"list-card-info list-card-additional-attribution-space\"><div class=\"list-card-footer\"></div><div class=\"list-card-heading\"></div></div><div class=\"list-card-top\"><div class=\"list-card-link list-card-link-top-margin list-card-img\"></div></div></article></li><li><article class=\"list-card list-card-additional-attribution list-card_not-saved\" id=\"zpid_2092812992\" role=\"presentation\"><div class=\"list-card-info list-card-additional-attribution-space\"><div class=\"list-card-footer\"></div><div class=\"list-card-heading\"></div></div><div class=\"list-card-top\"><div class=\"list-card-link list-card-link-top-margin list-card-img\"></div></div></article></li><li><article class=\"list-card list-card-additional-attribution list-card_not-saved\" id=\"zpid_42.345985--71.084816\" role=\"presentation\"><div class=\"list-card-info list-card-additional-attribution-space\"><div class=\"list-card-footer\"></div><div class=\"list-card-heading\"></div></div><div class=\"list-card-top\"><div class=\"list-card-link list-card-link-top-margin list-card-img\"></div></div></article></li><li><article class=\"list-card list-card-additional-attribution list-card_not-saved\" id=\"zpid_42.317215--71.04131\" role=\"presentation\"><div class=\"list-card-info list-card-additional-attribution-space\"><div class=\"list-card-footer\"></div><div class=\"list-card-heading\"></div></div><div class=\"list-card-top\"><div class=\"list-card-link list-card-link-top-margin list-card-img\"></div></div></article></li><li><article class=\"list-card list-card-additional-attribution list-card_not-saved\" id=\"zpid_42.34012--71.068054\" role=\"presentation\"><div class=\"list-card-info list-card-additional-attribution-space\"><div class=\"list-card-footer\"></div><div class=\"list-card-heading\"></div></div><div class=\"list-card-top\"><div class=\"list-card-link list-card-link-top-margin list-card-img\"></div></div></article></li><li><article class=\"list-card list-card-additional-attribution list-card_not-saved\" id=\"zpid_42.346287--71.06308\" role=\"presentation\"><div class=\"list-card-info list-card-additional-attribution-space\"><div class=\"list-card-footer\"></div><div class=\"list-card-heading\"></div></div><div class=\"list-card-top\"><div class=\"list-card-link list-card-link-top-margin list-card-img\"></div></div></article></li><li><article class=\"list-card list-card-additional-attribution list-card_not-saved\" id=\"zpid_2065692747\" role=\"presentation\"><div class=\"list-card-info list-card-additional-attribution-space\"><div class=\"list-card-footer\"></div><div class=\"list-card-heading\"></div></div><div class=\"list-card-top\"><div class=\"list-card-link list-card-link-top-margin list-card-img\"></div></div></article></li><li><article class=\"list-card list-card-additional-attribution list-card_not-saved\" id=\"zpid_42.348103--71.07962\" role=\"presentation\"><div class=\"list-card-info list-card-additional-attribution-space\"><div class=\"list-card-footer\"></div><div class=\"list-card-heading\"></div></div><div class=\"list-card-top\"><div class=\"list-card-link list-card-link-top-margin list-card-img\"></div></div></article></li><li><article class=\"list-card list-card-additional-attribution list-card_not-saved\" id=\"zpid_42.32956--71.11137\" role=\"presentation\"><div class=\"list-card-info list-card-additional-attribution-space\"><div class=\"list-card-footer\"></div><div class=\"list-card-heading\"></div></div><div class=\"list-card-top\"><div class=\"list-card-link list-card-link-top-margin list-card-img\"></div></div></article></li><li><article class=\"list-card list-card-additional-attribution list-card_not-saved\" id=\"zpid_42.33347--71.10183\" role=\"presentation\"><div class=\"list-card-info list-card-additional-attribution-space\"><div class=\"list-card-footer\"></div><div class=\"list-card-heading\"></div></div><div class=\"list-card-top\"><div class=\"list-card-link list-card-link-top-margin list-card-img\"></div></div></article></li></ul><div class=\"search-pagination\"><nav aria-label=\"Pagination\" class=\"StyledPagination-c11n-8-62-4__sc-2vwigm-0 goOpqS\" role=\"navigation\"><ul class=\"PaginationList-c11n-8-62-4__sc-14rlw6v-0 iVxauc\"><li class=\"PaginationJumpItem-c11n-8-62-4__sc-18wdg2l-0 jutAhU\"><a class=\"StyledButton-c11n-8-62-4__sc-wpcbcc-0 jQcGML PaginationButton-c11n-8-62-4__sc-si2hz6-0 liJdZL\" disabled=\"\" href=\"/boston-ma/rentals/\" rel=\"prev\" tabindex=\"-1\" title=\"Previous page\"><svg aria-hidden=\"true\" class=\"Icon-c11n-8-62-4__sc-13llmml-0 IjxcY IconChevronLeft-c11n-8-62-4__sc-ddr5cu-0 kMJUvg\" focusable=\"false\" role=\"img\" viewbox=\"0 0 32 32\"><title>Chevron Left</title><path d=\"M29.41 8.59a2 2 0 00-2.83 0L16 19.17 5.41 8.59a2 2 0 00-2.83 2.83l12 12a2 2 0 002.82 0l12-12a2 2 0 00.01-2.83z\" stroke=\"none\"></path></svg></a></li><li aria-current=\"page\" class=\"PaginationNumberItem-c11n-8-62-4__sc-bnmlxt-0 gDZTHc\"><a aria-pressed=\"true\" class=\"StyledButton-c11n-8-62-4__sc-wpcbcc-0 jQcGML PaginationButton-c11n-8-62-4__sc-si2hz6-0 liJdZL\" disabled=\"\" href=\"/boston-ma/rentals/\" tabindex=\"-1\" title=\"Page 1, current page\">1</a></li><li class=\"PaginationNumberItem-c11n-8-62-4__sc-bnmlxt-0 gDZTHc\"><a class=\"StyledButton-c11n-8-62-4__sc-wpcbcc-0 hEHnmV PaginationButton-c11n-8-62-4__sc-si2hz6-0 liJdZL\" href=\"/boston-ma/rentals/2_p/\" title=\"Page 2\">2</a></li><li class=\"PaginationNumberItem-c11n-8-62-4__sc-bnmlxt-0 gDZTHc\"><a class=\"StyledButton-c11n-8-62-4__sc-wpcbcc-0 hEHnmV PaginationButton-c11n-8-62-4__sc-si2hz6-0 liJdZL\" href=\"/boston-ma/rentals/3_p/\" title=\"Page 3\">3</a></li><li class=\"PaginationNumberItem-c11n-8-62-4__sc-bnmlxt-0 gDZTHc\"><a class=\"StyledButton-c11n-8-62-4__sc-wpcbcc-0 hEHnmV PaginationButton-c11n-8-62-4__sc-si2hz6-0 liJdZL\" href=\"/boston-ma/rentals/4_p/\" title=\"Page 4\">4</a></li><li class=\"PaginationNumberItem-c11n-8-62-4__sc-bnmlxt-0 gDZTHc\"><a class=\"StyledButton-c11n-8-62-4__sc-wpcbcc-0 hEHnmV PaginationButton-c11n-8-62-4__sc-si2hz6-0 liJdZL\" href=\"/boston-ma/rentals/5_p/\" title=\"Page 5\">5</a></li><li class=\"PaginationNumberItem-c11n-8-62-4__sc-bnmlxt-0 gDZTHc\"><a class=\"StyledButton-c11n-8-62-4__sc-wpcbcc-0 hEHnmV PaginationButton-c11n-8-62-4__sc-si2hz6-0 liJdZL\" href=\"/boston-ma/rentals/6_p/\" title=\"Page 6\">6</a></li><li class=\"PaginationNumberItem-c11n-8-62-4__sc-bnmlxt-0 gDZTHc\"><a class=\"StyledButton-c11n-8-62-4__sc-wpcbcc-0 hEHnmV PaginationButton-c11n-8-62-4__sc-si2hz6-0 liJdZL\" href=\"/boston-ma/rentals/7_p/\" title=\"Page 7\">7</a></li><li aria-current=\"page\" class=\"PaginationReadoutItem-c11n-8-62-4__sc-18an4gi-0 deKPor\"><span class=\"Text-c11n-8-62-4__sc-aiai24-0 jAniDl\">Page <!-- -->1<!-- --> of <!-- -->20</span></li><li class=\"PaginationJumpItem-c11n-8-62-4__sc-18wdg2l-0 jutAhU\"><a class=\"StyledButton-c11n-8-62-4__sc-wpcbcc-0 hEHnmV PaginationButton-c11n-8-62-4__sc-si2hz6-0 liJdZL\" href=\"/boston-ma/rentals/2_p/\" rel=\"next\" title=\"Next page\"><svg aria-hidden=\"true\" class=\"Icon-c11n-8-62-4__sc-13llmml-0 IjxcY IconChevronRight-c11n-8-62-4__sc-19mpgrq-0 YGsTn\" focusable=\"false\" role=\"img\" viewbox=\"0 0 32 32\"><title>Chevron Right</title><path d=\"M29.41 8.59a2 2 0 00-2.83 0L16 19.17 5.41 8.59a2 2 0 00-2.83 2.83l12 12a2 2 0 002.82 0l12-12a2 2 0 00.01-2.83z\" stroke=\"none\"></path></svg></a></li></ul></nav></div><div class=\"srp__sc-8koroz-0 iWRaAh\"><div class=\"search-list-save-search-parent\"><button aria-expanded=\"false\" aria-haspopup=\"dialog\" aria-label=\"Save search\" class=\"StyledButton-c11n-8-62-4__sc-wpcbcc-0 cscaEb srp__c3ge2v-0 kbwmuQ save-search-button link-styled-button\" rel=\"nofollow\" role=\"button\" tabindex=\"0\" type=\"button\">Save this search</button> to get email alerts when listings hit the market.</div></div><div class=\"generic-display-ad-container\"></div></div>]\n"
     ]
    }
   ],
   "source": [
    "res1 = select_res(soup)\n",
    "print(res1)"
   ]
  },
  {
   "cell_type": "code",
   "execution_count": 189,
   "id": "3cc5bc11",
   "metadata": {},
   "outputs": [
    {
     "name": "stdout",
     "output_type": "stream",
     "text": [
      "['$3010+<abbr', 'class=\"list-card-label\">', '<!--', '-->Studio</abbr>', '$3278+<abbr', 'class=\"list-card-label\">', '<!--', '-->Studio</abbr>', '$3269+<abbr', 'class=\"list-card-label\">', '<!--', '-->Studio</abbr>', '$3253+<abbr', 'class=\"list-card-label\">', '<!--', '-->Studio</abbr>', '$3754/mo', '$2389+<abbr', 'class=\"list-card-label\">', '<!--', '-->Studio</abbr>', '$2560+<abbr', 'class=\"list-card-label\">', '<!--', '-->Studio</abbr>', '$3250+<abbr', 'class=\"list-card-label\">', '<!--', '-->1', 'bd</abbr>', '$2767+<abbr', 'class=\"list-card-label\">', '<!--', '-->Studio</abbr>']\n",
      "['3010+<abbr', 'class=\"list-card-label\">', '<!--', '-->Studio</abbr>', '3278+<abbr', 'class=\"list-card-label\">', '<!--', '-->Studio</abbr>', '3269+<abbr', 'class=\"list-card-label\">', '<!--', '-->Studio</abbr>', '3253+<abbr', 'class=\"list-card-label\">', '<!--', '-->Studio</abbr>', '3754/mo', '2389+<abbr', 'class=\"list-card-label\">', '<!--', '-->Studio</abbr>', '2560+<abbr', 'class=\"list-card-label\">', '<!--', '-->Studio</abbr>', '3250+<abbr', 'class=\"list-card-label\">', '<!--', '-->1', 'bd</abbr>', '2767+<abbr', 'class=\"list-card-label\">', '<!--', '-->Studio</abbr>']\n"
     ]
    }
   ],
   "source": [
    "raw_price = get_p(res1)\n",
    "print(raw_price)\n",
    "int_price = get_clean_price(raw_price)\n",
    "print(int_price)"
   ]
  },
  {
   "cell_type": "code",
   "execution_count": 190,
   "id": "5635b403",
   "metadata": {},
   "outputs": [
    {
     "name": "stdout",
     "output_type": "stream",
     "text": [
      "['/b/hub50house-boston-ma-9qFF3Z/', '/b/The-Sudbury-Boston-MA/42.362183,-71.059654_ll/', '/b/one-greenway-boston-ma-65WmdH/', '/b/the-harlo-boston-ma-5fNMSs/', 'https://www.zillow.com/homedetails/530-Atlantic-Ave-APT-202-Boston-MA-02210/2090018407_zpid/', '/b/eco-allston-ma-5XksSc/', '/b/the-victor-by-windsor-boston-ma-5XmCFX/', '/b/fenway-diamond-at-9-miner-street-boston-ma-5YwqXf/', '/b/radian-boston-ma-5XjQjN/']\n"
     ]
    }
   ],
   "source": [
    "info = get_url(prop1)\n",
    "print(info)"
   ]
  },
  {
   "cell_type": "code",
   "execution_count": 202,
   "id": "7ba1b40d",
   "metadata": {},
   "outputs": [
    {
     "name": "stdout",
     "output_type": "stream",
     "text": [
      "['$599900', '$579900', '$749000', '$1649000', '$639000', '$450000', '$130000', '$265000', '$2699000']\n",
      "['599900', '579900', '749000', '1649000', '639000', '450000', '130000', '265000', '2699000']\n",
      " 84-86 Sunnyside St #2, Hyde Park, MA 02136 \n",
      " 84-86 Sunnyside St #1, Hyde Park, MA 02136 \n",
      " 19 Highfield Rd, Roslindale, MA 02131 \n",
      " 8 Church St, Boston, MA 02116 \n",
      " 110 Beacon St, Hyde Park, MA 02136 \n",
      " 141 Chelsea St, East Boston, MA 02128 \n",
      " 790 Hyde Park Ave APT 16, Boston, MA 02136 \n",
      " 300 Summer St APT 23, Boston, MA 02210 \n",
      " 51 Commercial Wharf APT 7, Boston, MA 02110 \n",
      "[' 84-86 Sunnyside St #2, Hyde Park, MA 02136 ', ' 84-86 Sunnyside St #1, Hyde Park, MA 02136 ', ' 19 Highfield Rd, Roslindale, MA 02131 ', ' 8 Church St, Boston, MA 02116 ', ' 110 Beacon St, Hyde Park, MA 02136 ', ' 141 Chelsea St, East Boston, MA 02128 ', ' 790 Hyde Park Ave APT 16, Boston, MA 02136 ', ' 300 Summer St APT 23, Boston, MA 02210 ', ' 51 Commercial Wharf APT 7, Boston, MA 02110 ']\n",
      "['Hyde Park', 'Hyde Park', 'Roslindale', 'Boston', 'Hyde Park', 'East Boston', 'Boston', 'Boston', 'Boston']\n",
      "['02136', '02136', '02131', '02116', '02136', '02128', '02136', '02210', '02110']\n",
      "['https://www.zillow.com/homedetails/84-86-Sunnyside-St-2-Hyde-Park-MA-02136/2063510036_zpid/', 'https://www.zillow.com/homedetails/84-86-Sunnyside-St-1-Hyde-Park-MA-02136/2063510028_zpid/', 'https://www.zillow.com/homedetails/19-Highfield-Rd-Roslindale-MA-02131/59145304_zpid/', 'https://www.zillow.com/homedetails/8-Church-St-Boston-MA-02116/2094043469_zpid/', 'https://www.zillow.com/homedetails/110-Beacon-St-Hyde-Park-MA-02136/59126552_zpid/', 'https://www.zillow.com/homedetails/141-Chelsea-St-East-Boston-MA-02128/59123010_zpid/', 'https://www.zillow.com/homedetails/790-Hyde-Park-Ave-APT-16-Boston-MA-02136/59125095_zpid/', 'https://www.zillow.com/homedetails/300-Summer-St-APT-23-Boston-MA-02210/2066590934_zpid/', 'https://www.zillow.com/homedetails/51-Commercial-Wharf-APT-7-Boston-MA-02110/59174570_zpid/']\n",
      "['3', '2', '3', '4', '4', '4', '1', '1', '3']\n",
      "['2', '2', '2', '4', '3', '3', '1', '1', '2']\n",
      "['1,449', '1,134', '1,643', '3,000', '1,703', '3,023', '655', '1,220', '1,879']\n"
     ]
    }
   ],
   "source": [
    "# this one \n",
    "prop1 = select_properties(soup)\n",
    "res1 = select_res(soup)\n",
    "#print(res1)\n",
    "\n",
    "raw_price = get_p(res1)\n",
    "print(raw_price)\n",
    "int_price = get_clean_price(raw_price)\n",
    "print(int_price)\n",
    "\n",
    "wb = get_address(prop1)\n",
    "print(wb)\n",
    "\n",
    "fcity = city(wb)\n",
    "print(fcity)\n",
    "fzc = zip_code(wb)\n",
    "print(fzc)\n",
    "\n",
    "info = get_url(prop1)\n",
    "print(info)\n",
    "\n",
    "finder = find_beds(soup)\n",
    "bbs = get_bed_bath_sqft(finder)\n",
    "\n",
    "bed = get_bed(bbs)\n",
    "print(bed)\n",
    "bath = get_bath(bbs)\n",
    "print(bath)\n",
    "sqft= get_sqft(bbs)\n",
    "print(sqft)"
   ]
  },
  {
   "cell_type": "code",
   "execution_count": 203,
   "id": "97d3353b",
   "metadata": {},
   "outputs": [
    {
     "data": {
      "text/html": [
       "<div>\n",
       "<style scoped>\n",
       "    .dataframe tbody tr th:only-of-type {\n",
       "        vertical-align: middle;\n",
       "    }\n",
       "\n",
       "    .dataframe tbody tr th {\n",
       "        vertical-align: top;\n",
       "    }\n",
       "\n",
       "    .dataframe thead th {\n",
       "        text-align: right;\n",
       "    }\n",
       "</style>\n",
       "<table border=\"1\" class=\"dataframe\">\n",
       "  <thead>\n",
       "    <tr style=\"text-align: right;\">\n",
       "      <th></th>\n",
       "      <th>Price</th>\n",
       "      <th>Address</th>\n",
       "      <th>City</th>\n",
       "      <th>Zip Code</th>\n",
       "      <th>Beds</th>\n",
       "      <th>Bath</th>\n",
       "      <th>Square Feet</th>\n",
       "      <th>Links</th>\n",
       "    </tr>\n",
       "  </thead>\n",
       "  <tbody>\n",
       "    <tr>\n",
       "      <th>0</th>\n",
       "      <td>599900</td>\n",
       "      <td>84-86 Sunnyside St #2, Hyde Park, MA 02136</td>\n",
       "      <td>Hyde Park</td>\n",
       "      <td>02136</td>\n",
       "      <td>3</td>\n",
       "      <td>2</td>\n",
       "      <td>1,449</td>\n",
       "      <td>https://www.zillow.com/homedetails/84-86-Sunny...</td>\n",
       "    </tr>\n",
       "    <tr>\n",
       "      <th>1</th>\n",
       "      <td>579900</td>\n",
       "      <td>84-86 Sunnyside St #1, Hyde Park, MA 02136</td>\n",
       "      <td>Hyde Park</td>\n",
       "      <td>02136</td>\n",
       "      <td>2</td>\n",
       "      <td>2</td>\n",
       "      <td>1,134</td>\n",
       "      <td>https://www.zillow.com/homedetails/84-86-Sunny...</td>\n",
       "    </tr>\n",
       "    <tr>\n",
       "      <th>2</th>\n",
       "      <td>749000</td>\n",
       "      <td>19 Highfield Rd, Roslindale, MA 02131</td>\n",
       "      <td>Roslindale</td>\n",
       "      <td>02131</td>\n",
       "      <td>3</td>\n",
       "      <td>2</td>\n",
       "      <td>1,643</td>\n",
       "      <td>https://www.zillow.com/homedetails/19-Highfiel...</td>\n",
       "    </tr>\n",
       "    <tr>\n",
       "      <th>3</th>\n",
       "      <td>1649000</td>\n",
       "      <td>8 Church St, Boston, MA 02116</td>\n",
       "      <td>Boston</td>\n",
       "      <td>02116</td>\n",
       "      <td>4</td>\n",
       "      <td>4</td>\n",
       "      <td>3,000</td>\n",
       "      <td>https://www.zillow.com/homedetails/8-Church-St...</td>\n",
       "    </tr>\n",
       "    <tr>\n",
       "      <th>4</th>\n",
       "      <td>639000</td>\n",
       "      <td>110 Beacon St, Hyde Park, MA 02136</td>\n",
       "      <td>Hyde Park</td>\n",
       "      <td>02136</td>\n",
       "      <td>4</td>\n",
       "      <td>3</td>\n",
       "      <td>1,703</td>\n",
       "      <td>https://www.zillow.com/homedetails/110-Beacon-...</td>\n",
       "    </tr>\n",
       "    <tr>\n",
       "      <th>5</th>\n",
       "      <td>450000</td>\n",
       "      <td>141 Chelsea St, East Boston, MA 02128</td>\n",
       "      <td>East Boston</td>\n",
       "      <td>02128</td>\n",
       "      <td>4</td>\n",
       "      <td>3</td>\n",
       "      <td>3,023</td>\n",
       "      <td>https://www.zillow.com/homedetails/141-Chelsea...</td>\n",
       "    </tr>\n",
       "    <tr>\n",
       "      <th>6</th>\n",
       "      <td>130000</td>\n",
       "      <td>790 Hyde Park Ave APT 16, Boston, MA 02136</td>\n",
       "      <td>Boston</td>\n",
       "      <td>02136</td>\n",
       "      <td>1</td>\n",
       "      <td>1</td>\n",
       "      <td>655</td>\n",
       "      <td>https://www.zillow.com/homedetails/790-Hyde-Pa...</td>\n",
       "    </tr>\n",
       "    <tr>\n",
       "      <th>7</th>\n",
       "      <td>265000</td>\n",
       "      <td>300 Summer St APT 23, Boston, MA 02210</td>\n",
       "      <td>Boston</td>\n",
       "      <td>02210</td>\n",
       "      <td>1</td>\n",
       "      <td>1</td>\n",
       "      <td>1,220</td>\n",
       "      <td>https://www.zillow.com/homedetails/300-Summer-...</td>\n",
       "    </tr>\n",
       "    <tr>\n",
       "      <th>8</th>\n",
       "      <td>2699000</td>\n",
       "      <td>51 Commercial Wharf APT 7, Boston, MA 02110</td>\n",
       "      <td>Boston</td>\n",
       "      <td>02110</td>\n",
       "      <td>3</td>\n",
       "      <td>2</td>\n",
       "      <td>1,879</td>\n",
       "      <td>https://www.zillow.com/homedetails/51-Commerci...</td>\n",
       "    </tr>\n",
       "  </tbody>\n",
       "</table>\n",
       "</div>"
      ],
      "text/plain": [
       "     Price                                        Address         City  \\\n",
       "0   599900    84-86 Sunnyside St #2, Hyde Park, MA 02136     Hyde Park   \n",
       "1   579900    84-86 Sunnyside St #1, Hyde Park, MA 02136     Hyde Park   \n",
       "2   749000         19 Highfield Rd, Roslindale, MA 02131    Roslindale   \n",
       "3  1649000                 8 Church St, Boston, MA 02116        Boston   \n",
       "4   639000            110 Beacon St, Hyde Park, MA 02136     Hyde Park   \n",
       "5   450000         141 Chelsea St, East Boston, MA 02128   East Boston   \n",
       "6   130000    790 Hyde Park Ave APT 16, Boston, MA 02136        Boston   \n",
       "7   265000        300 Summer St APT 23, Boston, MA 02210        Boston   \n",
       "8  2699000   51 Commercial Wharf APT 7, Boston, MA 02110        Boston   \n",
       "\n",
       "  Zip Code Beds Bath Square Feet  \\\n",
       "0    02136    3    2       1,449   \n",
       "1    02136    2    2       1,134   \n",
       "2    02131    3    2       1,643   \n",
       "3    02116    4    4       3,000   \n",
       "4    02136    4    3       1,703   \n",
       "5    02128    4    3       3,023   \n",
       "6    02136    1    1         655   \n",
       "7    02210    1    1       1,220   \n",
       "8    02110    3    2       1,879   \n",
       "\n",
       "                                               Links  \n",
       "0  https://www.zillow.com/homedetails/84-86-Sunny...  \n",
       "1  https://www.zillow.com/homedetails/84-86-Sunny...  \n",
       "2  https://www.zillow.com/homedetails/19-Highfiel...  \n",
       "3  https://www.zillow.com/homedetails/8-Church-St...  \n",
       "4  https://www.zillow.com/homedetails/110-Beacon-...  \n",
       "5  https://www.zillow.com/homedetails/141-Chelsea...  \n",
       "6  https://www.zillow.com/homedetails/790-Hyde-Pa...  \n",
       "7  https://www.zillow.com/homedetails/300-Summer-...  \n",
       "8  https://www.zillow.com/homedetails/51-Commerci...  "
      ]
     },
     "execution_count": 203,
     "metadata": {},
     "output_type": "execute_result"
    }
   ],
   "source": [
    "# this one \n",
    "df1 = create_df(int_price, wb, fcity, fzc, bed, bath, sqft, info)\n",
    "df1"
   ]
  },
  {
   "cell_type": "code",
   "execution_count": 170,
   "id": "c06e4fe1",
   "metadata": {},
   "outputs": [
    {
     "data": {
      "text/html": [
       "<div>\n",
       "<style scoped>\n",
       "    .dataframe tbody tr th:only-of-type {\n",
       "        vertical-align: middle;\n",
       "    }\n",
       "\n",
       "    .dataframe tbody tr th {\n",
       "        vertical-align: top;\n",
       "    }\n",
       "\n",
       "    .dataframe thead th {\n",
       "        text-align: right;\n",
       "    }\n",
       "</style>\n",
       "<table border=\"1\" class=\"dataframe\">\n",
       "  <thead>\n",
       "    <tr style=\"text-align: right;\">\n",
       "      <th></th>\n",
       "      <th>Price</th>\n",
       "      <th>Address</th>\n",
       "      <th>City</th>\n",
       "      <th>Zip Code</th>\n",
       "      <th>Beds</th>\n",
       "      <th>Bath</th>\n",
       "      <th>Square Feet</th>\n",
       "      <th>Links</th>\n",
       "    </tr>\n",
       "  </thead>\n",
       "  <tbody>\n",
       "    <tr>\n",
       "      <th>0</th>\n",
       "      <td>767000</td>\n",
       "      <td>691 Massachusetts Ave UNIT 208, Boston, MA 02...</td>\n",
       "      <td>Boston</td>\n",
       "      <td>02118</td>\n",
       "      <td>1</td>\n",
       "      <td>1</td>\n",
       "      <td>909</td>\n",
       "      <td>https://www.zillow.com/homedetails/691-Massach...</td>\n",
       "    </tr>\n",
       "    <tr>\n",
       "      <th>1</th>\n",
       "      <td>560000</td>\n",
       "      <td>104 King St #3, Dorchester, MA 02122</td>\n",
       "      <td>Dorchester</td>\n",
       "      <td>02122</td>\n",
       "      <td>2</td>\n",
       "      <td>1</td>\n",
       "      <td>1,007</td>\n",
       "      <td>https://www.zillow.com/homedetails/104-King-St...</td>\n",
       "    </tr>\n",
       "    <tr>\n",
       "      <th>2</th>\n",
       "      <td>944000</td>\n",
       "      <td>241 Perkins St UNIT J101, Jamaica Plain, MA 0...</td>\n",
       "      <td>Jamaica Plain</td>\n",
       "      <td>02130</td>\n",
       "      <td>3</td>\n",
       "      <td>3</td>\n",
       "      <td>2,190</td>\n",
       "      <td>https://www.zillow.com/homedetails/241-Perkins...</td>\n",
       "    </tr>\n",
       "    <tr>\n",
       "      <th>3</th>\n",
       "      <td>1050000</td>\n",
       "      <td>25 Bay State Rd STE 2, Boston, MA 02215</td>\n",
       "      <td>Boston</td>\n",
       "      <td>02215</td>\n",
       "      <td>3</td>\n",
       "      <td>3</td>\n",
       "      <td>1,124</td>\n",
       "      <td>https://www.zillow.com/homedetails/25-Bay-Stat...</td>\n",
       "    </tr>\n",
       "    <tr>\n",
       "      <th>4</th>\n",
       "      <td>580000</td>\n",
       "      <td>59B Old Morton St, Boston, MA 02126</td>\n",
       "      <td>Boston</td>\n",
       "      <td>02126</td>\n",
       "      <td>3</td>\n",
       "      <td>3</td>\n",
       "      <td>1,300</td>\n",
       "      <td>https://www.zillow.com/homedetails/59B-Old-Mor...</td>\n",
       "    </tr>\n",
       "    <tr>\n",
       "      <th>5</th>\n",
       "      <td>725000</td>\n",
       "      <td>47 Goodale Rd #1, Mattapan, MA 02126</td>\n",
       "      <td>Mattapan</td>\n",
       "      <td>02126</td>\n",
       "      <td>3</td>\n",
       "      <td>2</td>\n",
       "      <td>1,322</td>\n",
       "      <td>https://www.zillow.com/homedetails/47-Goodale-...</td>\n",
       "    </tr>\n",
       "    <tr>\n",
       "      <th>6</th>\n",
       "      <td>2560000</td>\n",
       "      <td>50 Liberty Dr PENTHOUSE 1J, Boston, MA 02210</td>\n",
       "      <td>Boston</td>\n",
       "      <td>02210</td>\n",
       "      <td>1</td>\n",
       "      <td>2</td>\n",
       "      <td>1,329</td>\n",
       "      <td>https://www.zillow.com/homedetails/50-Liberty-...</td>\n",
       "    </tr>\n",
       "    <tr>\n",
       "      <th>7</th>\n",
       "      <td>1070000</td>\n",
       "      <td>18 Brenton St, Dorchester, MA 02121</td>\n",
       "      <td>Dorchester</td>\n",
       "      <td>02121</td>\n",
       "      <td>7</td>\n",
       "      <td>4</td>\n",
       "      <td>4,685</td>\n",
       "      <td>https://www.zillow.com/homedetails/18-Brenton-...</td>\n",
       "    </tr>\n",
       "    <tr>\n",
       "      <th>8</th>\n",
       "      <td>410000</td>\n",
       "      <td>4975 Washington St #118, West Roxbury, MA 02132</td>\n",
       "      <td>West Roxbury</td>\n",
       "      <td>02132</td>\n",
       "      <td>2</td>\n",
       "      <td>2</td>\n",
       "      <td>1,055</td>\n",
       "      <td>https://www.zillow.com/homedetails/4975-Washin...</td>\n",
       "    </tr>\n",
       "  </tbody>\n",
       "</table>\n",
       "</div>"
      ],
      "text/plain": [
       "     Price                                            Address           City  \\\n",
       "0   767000   691 Massachusetts Ave UNIT 208, Boston, MA 02...         Boston   \n",
       "1   560000              104 King St #3, Dorchester, MA 02122      Dorchester   \n",
       "2   944000   241 Perkins St UNIT J101, Jamaica Plain, MA 0...  Jamaica Plain   \n",
       "3  1050000           25 Bay State Rd STE 2, Boston, MA 02215          Boston   \n",
       "4   580000               59B Old Morton St, Boston, MA 02126          Boston   \n",
       "5   725000              47 Goodale Rd #1, Mattapan, MA 02126        Mattapan   \n",
       "6  2560000      50 Liberty Dr PENTHOUSE 1J, Boston, MA 02210          Boston   \n",
       "7  1070000               18 Brenton St, Dorchester, MA 02121      Dorchester   \n",
       "8   410000   4975 Washington St #118, West Roxbury, MA 02132    West Roxbury   \n",
       "\n",
       "  Zip Code Beds Bath Square Feet  \\\n",
       "0    02118    1    1         909   \n",
       "1    02122    2    1       1,007   \n",
       "2    02130    3    3       2,190   \n",
       "3    02215    3    3       1,124   \n",
       "4    02126    3    3       1,300   \n",
       "5    02126    3    2       1,322   \n",
       "6    02210    1    2       1,329   \n",
       "7    02121    7    4       4,685   \n",
       "8    02132    2    2       1,055   \n",
       "\n",
       "                                               Links  \n",
       "0  https://www.zillow.com/homedetails/691-Massach...  \n",
       "1  https://www.zillow.com/homedetails/104-King-St...  \n",
       "2  https://www.zillow.com/homedetails/241-Perkins...  \n",
       "3  https://www.zillow.com/homedetails/25-Bay-Stat...  \n",
       "4  https://www.zillow.com/homedetails/59B-Old-Mor...  \n",
       "5  https://www.zillow.com/homedetails/47-Goodale-...  \n",
       "6  https://www.zillow.com/homedetails/50-Liberty-...  \n",
       "7  https://www.zillow.com/homedetails/18-Brenton-...  \n",
       "8  https://www.zillow.com/homedetails/4975-Washin...  "
      ]
     },
     "execution_count": 170,
     "metadata": {},
     "output_type": "execute_result"
    }
   ],
   "source": [
    "final = filter_df(df1)\n",
    "final.head(10)\n",
    "#df2 = create_df(int_price, wb, fcity, fzc, bed, bath, sqft, info)"
   ]
  },
  {
   "cell_type": "markdown",
   "id": "0bf29159",
   "metadata": {},
   "source": [
    "## Purchasing Houses"
   ]
  },
  {
   "cell_type": "code",
   "execution_count": 207,
   "id": "18b00441",
   "metadata": {},
   "outputs": [
    {
     "name": "stdout",
     "output_type": "stream",
     "text": [
      "Housing data appended successfully.\n"
     ]
    }
   ],
   "source": [
    "# Convert df to csv and export to store and update data\n",
    "# Only run this line of code one time to import the headers\n",
    "\n",
    "final.to_csv('purchase_zillow_house3000.csv', mode='a', index=False)\n",
    "print(\"Housing data appended successfully.\")"
   ]
  },
  {
   "cell_type": "code",
   "execution_count": 208,
   "id": "4c36ba3c",
   "metadata": {},
   "outputs": [
    {
     "name": "stdout",
     "output_type": "stream",
     "text": [
      "Housing data appended successfully.\n"
     ]
    }
   ],
   "source": [
    "# Remove headers when adding every other time to avoid duplicate header row\n",
    "final.to_csv('purchase_zillow_house3000.csv', mode='a', header=False, index=False)\n",
    "print(\"Housing data appended successfully.\")"
   ]
  },
  {
   "cell_type": "markdown",
   "id": "3608aa36",
   "metadata": {},
   "source": [
    "## Rental Data"
   ]
  },
  {
   "cell_type": "code",
   "execution_count": 205,
   "id": "c146c535",
   "metadata": {},
   "outputs": [
    {
     "name": "stdout",
     "output_type": "stream",
     "text": [
      "Rental data appended successfully.\n"
     ]
    }
   ],
   "source": [
    "# Separate df and csv file created for rental data\n",
    "# Only run this line of code one time to import the headers\n",
    "\n",
    "df1.to_csv('rental_zillow_house.csv', mode='a', index=False)\n",
    "print(\"Rental data appended successfully.\")"
   ]
  },
  {
   "cell_type": "code",
   "execution_count": 206,
   "id": "2f845401",
   "metadata": {},
   "outputs": [
    {
     "name": "stdout",
     "output_type": "stream",
     "text": [
      "Rental data appended successfully.\n"
     ]
    }
   ],
   "source": [
    "# Remove headers when adding every other time to avoid duplicate header row\n",
    "df1.to_csv('rental_zillow_house.csv', mode='a', header=False, index=False)\n",
    "print(\"Rental data appended successfully.\")"
   ]
  }
 ],
 "metadata": {
  "kernelspec": {
   "display_name": "Python 3 (ipykernel)",
   "language": "python",
   "name": "python3"
  },
  "language_info": {
   "codemirror_mode": {
    "name": "ipython",
    "version": 3
   },
   "file_extension": ".py",
   "mimetype": "text/x-python",
   "name": "python",
   "nbconvert_exporter": "python",
   "pygments_lexer": "ipython3",
   "version": "3.8.5"
  }
 },
 "nbformat": 4,
 "nbformat_minor": 5
}
